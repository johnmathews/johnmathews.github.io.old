{
 "cells": [
  {
   "cell_type": "markdown",
   "metadata": {
    "deletable": true,
    "editable": true
   },
   "source": [
    "# FakeGL: A synthetic General Ledger and Trial Balance\n",
    "My work involves processing a lot of General Ledgers and I wanted to build and test various automation and analytical techniques to see how my workflow could be improved. In order to do that in a free and fun way, I would need fake data, so I set out to build a process to generate a fake General Ledger (GL) and a corresponding Trial Balance (TB).\n",
    "\n",
    "## Motivation and scope\n",
    "Initially I didn't know how comprehensive I needed the GL to be - modern systems are complex and store data for a wide variety of uses. I resolved to start with something simple and iterate for as long as I wanted. \n",
    "\n",
    "The journals produced below satisfy the following general accounting principles:\n",
    "1. Each journal contains equal debits and credits\n",
    "2. Opening and closing Trial Balances net to 0\n",
    "3. Profit and Loss (P&L) accounts start the year with 0 balance, Balance Sheet (BS) accounts do not.\n",
    "4. Each transaction hits both the P&L and the BS (i.e. If an account on the P&L is credited, then the other side of the transaction is a debit to the BS)\n",
    "5. Distinguish between manual and automatic journals \n",
    "\n",
    "The GL:\n",
    "1. Contains journals posted evenly throughout the year (this isnt realistic, but is a simple way to generate date data)\n",
    "2. Receives journals from subledgers\n",
    "3. Identifies if a journal is manual depending on which subledger it originated with\n",
    "4. Records which user posted the journal if the journal is manual\n",
    "\n",
    "The script below allows the user to specify:\n",
    "1. The number of accounts on the GL/TB\n",
    "2. The number of journals in the GL\n",
    "3. A mean and variance for the number of lines in each journal\n",
    "4. A mean and variance for the functional amounts posted to accounts\n",
    "5. How many different users post manual journals\n",
    "6. The beginning of the financial year\n",
    "7. The criteria for a manual journal, based on subledger\n",
    "8. The proportion of manuals which are manual\n",
    "9. The proportion of accounts which hit the P&L or BS\n",
    "10. An arbitrary list of subledgers\n",
    "\n",
    "The Jupyter Notebook below shows the annotated Python 3 code I wrote:"
   ]
  },
  {
   "cell_type": "markdown",
   "metadata": {
    "deletable": true,
    "editable": true
   },
   "source": [
    "## Notebook set-up\n",
    "Load the various libraries used to easily add the required features. Two libraries to note: \n",
    "- Pandas is pythons ubiquitous data handling tool\n",
    "- Faker is a useful tool to generate fake data about people and is an easy way to bootstrap a databaes"
   ]
  },
  {
   "cell_type": "code",
   "execution_count": 1,
   "metadata": {
    "collapsed": true,
    "deletable": true,
    "editable": true
   },
   "outputs": [],
   "source": [
    "from random import gauss\n",
    "from faker import Factory\n",
    "import random\n",
    "import numpy as np\n",
    "import time\n",
    "from datetime import timedelta\n",
    "import datetime\n",
    "from natsort import natsorted, ns\n",
    "import pandas as pd"
   ]
  },
  {
   "cell_type": "markdown",
   "metadata": {
    "deletable": true,
    "editable": true
   },
   "source": [
    "## Choose parameters and values for the GL and TB"
   ]
  },
  {
   "cell_type": "code",
   "execution_count": 2,
   "metadata": {
    "collapsed": false,
    "deletable": true,
    "editable": true
   },
   "outputs": [],
   "source": [
    "# ****** Number of different accounts in the GL *********\n",
    "x = 111 \n",
    "\n",
    "\n",
    "# ****** Number of journals in the GL *******************\n",
    "j = 15713\n",
    "\n",
    "# Setup posting date \n",
    "d0 = '20160101' # first day, data generated over 1 year.\n",
    "d1 = datetime.datetime.strptime(d0, \"%Y%m%d\")\n",
    "\n",
    "\n",
    "# ****** Distribution of lines per journals *************\n",
    "jl_1 = 21 # mean\n",
    "jl_2 = 10 # variance\n",
    "j_l = lambda x, y: abs(int(gauss(jl_1,jl_2)))\n",
    "\n",
    "\n",
    "# ****** Number of different users posting journals *****\n",
    "fake = Factory.create('en_GB')\n",
    "U = 10\n",
    "ul = []\n",
    "for _ in range(0,U): ul.append(fake.name())\n",
    "\n",
    "# ****** Functional amount values ***********************\n",
    "q1 = 700 # mean\n",
    "q2 = 104 # variance\n",
    "def q(q1,q2):\n",
    "    p = random.random() < 0.5 # True implies \n",
    "    if p: i = -1\n",
    "    else: i = 1\n",
    "    \n",
    "    out = i * round(gauss(q1,q2),2)\n",
    "    return out\n",
    "\n",
    "\n",
    "# ****** Proportion of journals which are manual ********\n",
    "Mp = 0.23\n",
    "\n",
    "# ****** Proportion of accounts that are P&L accounts ***\n",
    "Pp = 0.3\n",
    "\n",
    "# ****** Subledger names *********\n",
    "source_feeds = ['sl1','sl2','sl3']"
   ]
  },
  {
   "cell_type": "markdown",
   "metadata": {
    "deletable": true,
    "editable": true
   },
   "source": [
    "## Functions\n",
    "Identify if an account feeds into the P&L or BS:"
   ]
  },
  {
   "cell_type": "code",
   "execution_count": 3,
   "metadata": {
    "collapsed": true,
    "deletable": true,
    "editable": true
   },
   "outputs": [],
   "source": [
    "def isPandLaccount(element):\n",
    "    if len(element) > 0:\n",
    "        return element[2] == 'P'\n",
    "        return False\n",
    "    \n",
    "def isBSaccount(element):\n",
    "    if len(element) > 0:\n",
    "        return element[2] == 'B'\n",
    "        return False"
   ]
  },
  {
   "cell_type": "markdown",
   "metadata": {
    "deletable": true,
    "editable": true
   },
   "source": [
    "Generate account codes:"
   ]
  },
  {
   "cell_type": "code",
   "execution_count": 4,
   "metadata": {
    "collapsed": false,
    "deletable": true,
    "editable": true
   },
   "outputs": [],
   "source": [
    "def account_names(x):\n",
    "    b_names = []\n",
    "    p_names = []\n",
    "    a_names = []\n",
    "    \n",
    "    p = 'ACP'\n",
    "    b = 'ACB'\n",
    "    \n",
    "    for i in range(x):\n",
    "        A = random.random() < Pp\n",
    "        if A: \n",
    "            y = b+str(i+1).zfill(5)\n",
    "            b_names.append(y)\n",
    "        else: \n",
    "            y = p+str(i+1).zfill(5)\n",
    "            p_names.append(y)\n",
    "        \n",
    "    if len(b_names) % 2 != 0: del b_names[-1]\n",
    "    if len(p_names) % 2 != 0: del p_names[-1]\n",
    "    \n",
    "    a_names = b_names + p_names\n",
    "        \n",
    "       \n",
    "    return(a_names)"
   ]
  },
  {
   "cell_type": "markdown",
   "metadata": {
    "deletable": true,
    "editable": true
   },
   "source": [
    "Generate journal names and lengths:"
   ]
  },
  {
   "cell_type": "code",
   "execution_count": 5,
   "metadata": {
    "collapsed": false,
    "deletable": true,
    "editable": true
   },
   "outputs": [],
   "source": [
    "def journal_names(j):\n",
    "    d0 = '20160101' # first day, data generated over 1 year.\n",
    "    d1 = datetime.datetime.strptime(d0, \"%Y%m%d\")\n",
    "    a_n = []\n",
    "    \n",
    "    for i in range(j):   \n",
    "        n = d1.strftime(\"%Y%m%d_\")\n",
    "        y = 'J_' + n + str(i+1).zfill(1)\n",
    "        d1 = d1 + datetime.timedelta(days=365/j)\n",
    "        a_n.append(y)\n",
    "    \n",
    "    j_names = dict((el, int( j_l(jl_1,jl_2) / 2 )) for el in a_n) # determine how many lines are in each journal. \n",
    "    return j_names"
   ]
  },
  {
   "cell_type": "markdown",
   "metadata": {
    "deletable": true,
    "editable": true
   },
   "source": [
    "## Create complete list of journal names and account codes"
   ]
  },
  {
   "cell_type": "code",
   "execution_count": 6,
   "metadata": {
    "collapsed": false,
    "deletable": true,
    "editable": true
   },
   "outputs": [],
   "source": [
    "j_names = journal_names(j) \n",
    "a_names = account_names(x)"
   ]
  },
  {
   "cell_type": "markdown",
   "metadata": {
    "deletable": true,
    "editable": true
   },
   "source": [
    "## Create the fake General Ledger and save it to a text file"
   ]
  },
  {
   "cell_type": "code",
   "execution_count": 7,
   "metadata": {
    "collapsed": false,
    "deletable": true,
    "editable": true
   },
   "outputs": [],
   "source": [
    "# Output format\n",
    "glf = 'Journal_ID|Line|Type|Date|User|Account|Source|Functional_Currency|Functional_Amount'\n",
    "\n",
    "f = open('gl.txt', 'w')\n",
    "f.write(glf + '\\n')\n",
    "\n",
    "for key in natsorted(j_names, key=lambda y: y.lower()):\n",
    "    line_no = -1\n",
    "    i = 0\n",
    "    \n",
    "    # Assign each journal a source feed\n",
    "    source_id = random.choice(source_feeds)\n",
    "     \n",
    "    # Assign each journal a posting date   \n",
    "    posting_date = d1.strftime(\"%Y%m%d\")\n",
    "    d1 = d1 + datetime.timedelta(days=365/j)\n",
    "      \n",
    "    # Make journal either M or A, if M assign user\n",
    "    t = random.random() < Mp # True implies \n",
    "    p=random.triangular(0, U, 3*U/4)\n",
    "    if t: \n",
    "        man_ind = 'M'\n",
    "        u_name = ul[int(p)]\n",
    "    else: \n",
    "        man_ind = 'A'\n",
    "        u_name = ''\n",
    "    \n",
    "    # Assign functional amount to each line\n",
    "    while i < j_names[key]:\n",
    "        i = i + 2\n",
    "        line_no = line_no + 2\n",
    "        line_no2 = line_no + 1\n",
    "        dr = q(q1,q2)\n",
    "        cr = -1 * dr\n",
    "        \n",
    "        a_names_p = list(filter(isPandLaccount, a_names))\n",
    "        a_names_b = list(filter(isBSaccount, a_names))\n",
    "\n",
    "        an1 = np.random.choice(a_names_p)  \n",
    "        an2 = np.random.choice(a_names_b)\n",
    "        \n",
    "        l_1 = key + '|' + str(line_no) + '|' + man_ind + '|' + posting_date + '|' + u_name + '|' + an1 + '|' + source_id + '|' + 'GBP' + '|' + str(dr)\n",
    "        l_2 = key + '|' + str(line_no2) + '|' +man_ind + '|' + posting_date + '|' + u_name + '|' + an2 + '|' + source_id + '|' + 'GBP' + '|' + str(cr)\n",
    "        f.write(l_1 + '\\n')\n",
    "        f.write(l_2 + '\\n')\n",
    "\n",
    "f.close()\n",
    "        "
   ]
  },
  {
   "cell_type": "markdown",
   "metadata": {
    "deletable": true,
    "editable": true
   },
   "source": [
    "## Create the Trial Balance and save it to a text file"
   ]
  },
  {
   "cell_type": "code",
   "execution_count": 8,
   "metadata": {
    "collapsed": false,
    "deletable": true,
    "editable": true
   },
   "outputs": [],
   "source": [
    "# Use gl to calc movement on each account\n",
    "gl = pd.read_csv('gl.txt', sep = '|')\n",
    "tb = gl[['Account','Functional_Amount']]\n",
    "\n",
    "# Calc net movement on each account\n",
    "tb = tb.groupby(['Account']).sum().round(2)\n",
    "tb.reset_index(level=0, inplace=True)\n",
    "tb.columns = ['Account','Movement']\n",
    "tb.sort_values(by = 'Account')\n",
    "\n",
    "# Assign account type\n",
    "# Set b/f balances to 0 for P&L accounts\n",
    "tb.loc[tb.Account.str[2] == 'P', 'Balance b/f'] = 0\n",
    "tb.loc[tb.Account.str[2] == 'P', 'Type'] = 'P&L'\n",
    "tb.loc[tb.Account.str[2] == 'B', 'Type'] = 'BS'\n",
    "tb['Balance dummy']=tb['Balance b/f']\n",
    "\n",
    "# if b/f balance is != 0, generate a balance for that account\n",
    "i = 0\n",
    "for index, row in tb.iterrows():\n",
    "    if row['Balance dummy'] != 0:\n",
    "        row['Balance b/f'] = round(gauss(q1,q2),2)\n",
    "        bal = round(gauss(q1,q2),2)\n",
    "        tb.loc[i,'Balance b/f'] = bal\n",
    "        tb.loc[i+1,'Balance b/f'] = -1 * bal\n",
    "    i += 2    \n",
    "del tb['Balance dummy']\n",
    "\n",
    "# create c/f field\n",
    "tb['Balance c/f'] = ( tb['Balance b/f'] + tb['Movement'] ).round(2)\n",
    "\n",
    "# create 'date of balance' column\n",
    "tb['Balance date'] = d1.strftime(\"%Y%m%d\")\n",
    "\n",
    "# Arrange columns\n",
    "tb = tb[['Account', 'Type', 'Balance b/f' , 'Balance c/f', 'Balance date']]\n",
    "\n",
    "# print TB to file\n",
    "tb.to_csv('tb.txt', sep='|', encoding='utf-8', header=True, index=False)"
   ]
  },
  {
   "cell_type": "markdown",
   "metadata": {
    "deletable": true,
    "editable": true
   },
   "source": [
    "## Load the text files back in and display their top 10 rows\n",
    "Verify that the files have been produced correctly and that the TB balances as expected"
   ]
  },
  {
   "cell_type": "code",
   "execution_count": 9,
   "metadata": {
    "collapsed": false,
    "deletable": true,
    "editable": true
   },
   "outputs": [],
   "source": [
    "gl = pd.read_csv('gl.txt', sep = '|')\n",
    "tb = pd.read_csv('tb.txt', sep = '|')"
   ]
  },
  {
   "cell_type": "code",
   "execution_count": 10,
   "metadata": {
    "collapsed": false,
    "deletable": true,
    "editable": true
   },
   "outputs": [
    {
     "data": {
      "text/html": [
       "<div>\n",
       "<table border=\"1\" class=\"dataframe\">\n",
       "  <thead>\n",
       "    <tr style=\"text-align: right;\">\n",
       "      <th></th>\n",
       "      <th>Account</th>\n",
       "      <th>Type</th>\n",
       "      <th>Balance b/f</th>\n",
       "      <th>Balance c/f</th>\n",
       "      <th>Balance date</th>\n",
       "    </tr>\n",
       "  </thead>\n",
       "  <tbody>\n",
       "    <tr>\n",
       "      <th>0</th>\n",
       "      <td>ACB00003</td>\n",
       "      <td>BS</td>\n",
       "      <td>673.10</td>\n",
       "      <td>72348.68</td>\n",
       "      <td>20161231</td>\n",
       "    </tr>\n",
       "    <tr>\n",
       "      <th>1</th>\n",
       "      <td>ACB00007</td>\n",
       "      <td>BS</td>\n",
       "      <td>-673.10</td>\n",
       "      <td>20045.09</td>\n",
       "      <td>20161231</td>\n",
       "    </tr>\n",
       "    <tr>\n",
       "      <th>2</th>\n",
       "      <td>ACB00010</td>\n",
       "      <td>BS</td>\n",
       "      <td>748.16</td>\n",
       "      <td>-30340.79</td>\n",
       "      <td>20161231</td>\n",
       "    </tr>\n",
       "    <tr>\n",
       "      <th>3</th>\n",
       "      <td>ACB00012</td>\n",
       "      <td>BS</td>\n",
       "      <td>-748.16</td>\n",
       "      <td>188.39</td>\n",
       "      <td>20161231</td>\n",
       "    </tr>\n",
       "    <tr>\n",
       "      <th>4</th>\n",
       "      <td>ACB00015</td>\n",
       "      <td>BS</td>\n",
       "      <td>814.96</td>\n",
       "      <td>48294.11</td>\n",
       "      <td>20161231</td>\n",
       "    </tr>\n",
       "    <tr>\n",
       "      <th>5</th>\n",
       "      <td>ACB00017</td>\n",
       "      <td>BS</td>\n",
       "      <td>-814.96</td>\n",
       "      <td>10659.80</td>\n",
       "      <td>20161231</td>\n",
       "    </tr>\n",
       "    <tr>\n",
       "      <th>6</th>\n",
       "      <td>ACB00021</td>\n",
       "      <td>BS</td>\n",
       "      <td>835.56</td>\n",
       "      <td>18357.33</td>\n",
       "      <td>20161231</td>\n",
       "    </tr>\n",
       "    <tr>\n",
       "      <th>7</th>\n",
       "      <td>ACB00032</td>\n",
       "      <td>BS</td>\n",
       "      <td>-835.56</td>\n",
       "      <td>3406.80</td>\n",
       "      <td>20161231</td>\n",
       "    </tr>\n",
       "    <tr>\n",
       "      <th>8</th>\n",
       "      <td>ACB00034</td>\n",
       "      <td>BS</td>\n",
       "      <td>759.60</td>\n",
       "      <td>26505.40</td>\n",
       "      <td>20161231</td>\n",
       "    </tr>\n",
       "    <tr>\n",
       "      <th>9</th>\n",
       "      <td>ACB00036</td>\n",
       "      <td>BS</td>\n",
       "      <td>-759.60</td>\n",
       "      <td>-39128.80</td>\n",
       "      <td>20161231</td>\n",
       "    </tr>\n",
       "  </tbody>\n",
       "</table>\n",
       "</div>"
      ],
      "text/plain": [
       "    Account Type  Balance b/f  Balance c/f  Balance date\n",
       "0  ACB00003   BS       673.10     72348.68      20161231\n",
       "1  ACB00007   BS      -673.10     20045.09      20161231\n",
       "2  ACB00010   BS       748.16    -30340.79      20161231\n",
       "3  ACB00012   BS      -748.16       188.39      20161231\n",
       "4  ACB00015   BS       814.96     48294.11      20161231\n",
       "5  ACB00017   BS      -814.96     10659.80      20161231\n",
       "6  ACB00021   BS       835.56     18357.33      20161231\n",
       "7  ACB00032   BS      -835.56      3406.80      20161231\n",
       "8  ACB00034   BS       759.60     26505.40      20161231\n",
       "9  ACB00036   BS      -759.60    -39128.80      20161231"
      ]
     },
     "execution_count": 10,
     "metadata": {},
     "output_type": "execute_result"
    }
   ],
   "source": [
    "tb.head(10)"
   ]
  },
  {
   "cell_type": "code",
   "execution_count": 11,
   "metadata": {
    "collapsed": false,
    "deletable": true,
    "editable": true
   },
   "outputs": [
    {
     "data": {
      "text/html": [
       "<div>\n",
       "<table border=\"1\" class=\"dataframe\">\n",
       "  <thead>\n",
       "    <tr style=\"text-align: right;\">\n",
       "      <th></th>\n",
       "      <th>Journal_ID</th>\n",
       "      <th>Line</th>\n",
       "      <th>Type</th>\n",
       "      <th>Date</th>\n",
       "      <th>User</th>\n",
       "      <th>Account</th>\n",
       "      <th>Source</th>\n",
       "      <th>Functional_Currency</th>\n",
       "      <th>Functional_Amount</th>\n",
       "    </tr>\n",
       "  </thead>\n",
       "  <tbody>\n",
       "    <tr>\n",
       "      <th>0</th>\n",
       "      <td>J_20160101_1</td>\n",
       "      <td>1</td>\n",
       "      <td>M</td>\n",
       "      <td>20160101</td>\n",
       "      <td>Iain Gardiner</td>\n",
       "      <td>ACP00054</td>\n",
       "      <td>sl2</td>\n",
       "      <td>GBP</td>\n",
       "      <td>-587.49</td>\n",
       "    </tr>\n",
       "    <tr>\n",
       "      <th>1</th>\n",
       "      <td>J_20160101_1</td>\n",
       "      <td>2</td>\n",
       "      <td>M</td>\n",
       "      <td>20160101</td>\n",
       "      <td>Iain Gardiner</td>\n",
       "      <td>ACB00064</td>\n",
       "      <td>sl2</td>\n",
       "      <td>GBP</td>\n",
       "      <td>587.49</td>\n",
       "    </tr>\n",
       "    <tr>\n",
       "      <th>2</th>\n",
       "      <td>J_20160101_1</td>\n",
       "      <td>3</td>\n",
       "      <td>M</td>\n",
       "      <td>20160101</td>\n",
       "      <td>Iain Gardiner</td>\n",
       "      <td>ACP00022</td>\n",
       "      <td>sl2</td>\n",
       "      <td>GBP</td>\n",
       "      <td>816.17</td>\n",
       "    </tr>\n",
       "    <tr>\n",
       "      <th>3</th>\n",
       "      <td>J_20160101_1</td>\n",
       "      <td>4</td>\n",
       "      <td>M</td>\n",
       "      <td>20160101</td>\n",
       "      <td>Iain Gardiner</td>\n",
       "      <td>ACB00017</td>\n",
       "      <td>sl2</td>\n",
       "      <td>GBP</td>\n",
       "      <td>-816.17</td>\n",
       "    </tr>\n",
       "    <tr>\n",
       "      <th>4</th>\n",
       "      <td>J_20160101_1</td>\n",
       "      <td>5</td>\n",
       "      <td>M</td>\n",
       "      <td>20160101</td>\n",
       "      <td>Iain Gardiner</td>\n",
       "      <td>ACP00088</td>\n",
       "      <td>sl2</td>\n",
       "      <td>GBP</td>\n",
       "      <td>628.60</td>\n",
       "    </tr>\n",
       "    <tr>\n",
       "      <th>5</th>\n",
       "      <td>J_20160101_1</td>\n",
       "      <td>6</td>\n",
       "      <td>M</td>\n",
       "      <td>20160101</td>\n",
       "      <td>Iain Gardiner</td>\n",
       "      <td>ACB00062</td>\n",
       "      <td>sl2</td>\n",
       "      <td>GBP</td>\n",
       "      <td>-628.60</td>\n",
       "    </tr>\n",
       "    <tr>\n",
       "      <th>6</th>\n",
       "      <td>J_20160101_1</td>\n",
       "      <td>7</td>\n",
       "      <td>M</td>\n",
       "      <td>20160101</td>\n",
       "      <td>Iain Gardiner</td>\n",
       "      <td>ACP00079</td>\n",
       "      <td>sl2</td>\n",
       "      <td>GBP</td>\n",
       "      <td>-672.34</td>\n",
       "    </tr>\n",
       "    <tr>\n",
       "      <th>7</th>\n",
       "      <td>J_20160101_1</td>\n",
       "      <td>8</td>\n",
       "      <td>M</td>\n",
       "      <td>20160101</td>\n",
       "      <td>Iain Gardiner</td>\n",
       "      <td>ACB00017</td>\n",
       "      <td>sl2</td>\n",
       "      <td>GBP</td>\n",
       "      <td>672.34</td>\n",
       "    </tr>\n",
       "    <tr>\n",
       "      <th>8</th>\n",
       "      <td>J_20160101_2</td>\n",
       "      <td>1</td>\n",
       "      <td>A</td>\n",
       "      <td>20160101</td>\n",
       "      <td>NaN</td>\n",
       "      <td>ACP00005</td>\n",
       "      <td>sl1</td>\n",
       "      <td>GBP</td>\n",
       "      <td>-683.52</td>\n",
       "    </tr>\n",
       "    <tr>\n",
       "      <th>9</th>\n",
       "      <td>J_20160101_2</td>\n",
       "      <td>2</td>\n",
       "      <td>A</td>\n",
       "      <td>20160101</td>\n",
       "      <td>NaN</td>\n",
       "      <td>ACB00036</td>\n",
       "      <td>sl1</td>\n",
       "      <td>GBP</td>\n",
       "      <td>683.52</td>\n",
       "    </tr>\n",
       "  </tbody>\n",
       "</table>\n",
       "</div>"
      ],
      "text/plain": [
       "     Journal_ID  Line Type      Date           User   Account Source  \\\n",
       "0  J_20160101_1     1    M  20160101  Iain Gardiner  ACP00054    sl2   \n",
       "1  J_20160101_1     2    M  20160101  Iain Gardiner  ACB00064    sl2   \n",
       "2  J_20160101_1     3    M  20160101  Iain Gardiner  ACP00022    sl2   \n",
       "3  J_20160101_1     4    M  20160101  Iain Gardiner  ACB00017    sl2   \n",
       "4  J_20160101_1     5    M  20160101  Iain Gardiner  ACP00088    sl2   \n",
       "5  J_20160101_1     6    M  20160101  Iain Gardiner  ACB00062    sl2   \n",
       "6  J_20160101_1     7    M  20160101  Iain Gardiner  ACP00079    sl2   \n",
       "7  J_20160101_1     8    M  20160101  Iain Gardiner  ACB00017    sl2   \n",
       "8  J_20160101_2     1    A  20160101            NaN  ACP00005    sl1   \n",
       "9  J_20160101_2     2    A  20160101            NaN  ACB00036    sl1   \n",
       "\n",
       "  Functional_Currency  Functional_Amount  \n",
       "0                 GBP            -587.49  \n",
       "1                 GBP             587.49  \n",
       "2                 GBP             816.17  \n",
       "3                 GBP            -816.17  \n",
       "4                 GBP             628.60  \n",
       "5                 GBP            -628.60  \n",
       "6                 GBP            -672.34  \n",
       "7                 GBP             672.34  \n",
       "8                 GBP            -683.52  \n",
       "9                 GBP             683.52  "
      ]
     },
     "execution_count": 11,
     "metadata": {},
     "output_type": "execute_result"
    }
   ],
   "source": [
    "gl.head(10)"
   ]
  },
  {
   "cell_type": "code",
   "execution_count": 12,
   "metadata": {
    "collapsed": false,
    "deletable": true,
    "editable": true
   },
   "outputs": [
    {
     "name": "stdout",
     "output_type": "stream",
     "text": [
      "Net Opening TB: 0.00\n",
      "Net Closing TB: 0.00\n"
     ]
    }
   ],
   "source": [
    "print('Net Opening TB:',\"%.2f\" % tb['Balance b/f'].sum())\n",
    "print('Net Closing TB:',\"%.2f\" % tb['Balance c/f'].sum())"
   ]
  }
 ],
 "metadata": {
  "kernelspec": {
   "display_name": "Python 3",
   "language": "python",
   "name": "python3"
  },
  "language_info": {
   "codemirror_mode": {
    "name": "ipython",
    "version": 3
   },
   "file_extension": ".py",
   "mimetype": "text/x-python",
   "name": "python",
   "nbconvert_exporter": "python",
   "pygments_lexer": "ipython3",
   "version": "3.6.0"
  }
 },
 "nbformat": 4,
 "nbformat_minor": 0
}
