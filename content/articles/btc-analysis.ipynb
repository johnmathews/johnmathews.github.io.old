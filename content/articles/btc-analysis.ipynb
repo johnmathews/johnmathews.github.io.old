{
 "cells": [
  {
   "cell_type": "code",
   "execution_count": 1,
   "metadata": {
    "collapsed": false,
    "deletable": true,
    "editable": true,
    "scrolled": false
   },
   "outputs": [
    {
     "data": {
      "text/html": [
       "<script>\n",
       "code_show=false; \n",
       "function code_toggle() {\n",
       " if (code_show){\n",
       " $('div.input').show();\n",
       " $('div.output_prompt').show();\n",
       " } else {\n",
       " $('div.input').hide();\n",
       " $('div.output_prompt').hide();\n",
       " }\n",
       " code_show =! code_show\n",
       "} \n",
       "$( document ).ready(code_toggle);\n",
       "</script>\n",
       "\n",
       "<font> Note: This analysis was made using Python. If you'd like to see the code used, click <a href=\"javascript:code_toggle()\">here</a>.</font>\n"
      ],
      "text/plain": [
       "<IPython.core.display.HTML object>"
      ]
     },
     "execution_count": 1,
     "metadata": {},
     "output_type": "execute_result"
    }
   ],
   "source": [
    "from IPython.display import HTML\n",
    "HTML('''<script>\n",
    "code_show=false; \n",
    "function code_toggle() {\n",
    " if (code_show){\n",
    " $('div.input').show();\n",
    " $('div.output_prompt').show();\n",
    " } else {\n",
    " $('div.input').hide();\n",
    " $('div.output_prompt').hide();\n",
    " }\n",
    " code_show =! code_show\n",
    "} \n",
    "$( document ).ready(code_toggle);\n",
    "</script>\n",
    "\n",
    "<font> Note: This analysis was made using Python. If you'd like to see the code used, click <a href=\"javascript:code_toggle()\">here</a>.</font>\n",
    "''')"
   ]
  },
  {
   "cell_type": "raw",
   "metadata": {
    "deletable": true,
    "editable": true
   },
   "source": [
    "<script> \n",
    "window.onload = function() {\n",
    "  code_toggle();\n",
    "};\n",
    "</script>"
   ]
  },
  {
   "cell_type": "code",
   "execution_count": 2,
   "metadata": {
    "collapsed": false,
    "deletable": true,
    "editable": true,
    "scrolled": false
   },
   "outputs": [],
   "source": [
    "## Steup - libraries\n",
    "import quandl\n",
    "import matplotlib.pyplot as plt\n",
    "import pandas as pd\n",
    "import datetime as dt\n",
    "import numpy as np\n",
    "import credentials # keep my quandl and plot.ly api keys private\n",
    "\n",
    "import plotly.plotly as py\n",
    "import plotly.graph_objs as go\n",
    "\n",
    "#import cufflinks as cf\n",
    "#cf.set_config_file(world_readable=True,offline=False)"
   ]
  },
  {
   "cell_type": "code",
   "execution_count": 3,
   "metadata": {
    "collapsed": false,
    "deletable": true,
    "editable": true,
    "scrolled": false
   },
   "outputs": [],
   "source": [
    "## Setup - appearance\n",
    "# add a ; at the end to suppress function output (when plotting)\n",
    "# matplotlib.style.use('ggplot')\n",
    "\n",
    "# get rid of the annoying 'SettingWithCopy' warning\n",
    "pd.options.mode.chained_assignment = None # default='warn'\n",
    "\n",
    "# more than one print of an unassigned variable\n",
    "from IPython.core.interactiveshell import InteractiveShell;\n",
    "InteractiveShell.ast_node_interactivity = \"all\";\n",
    "\n",
    "# Display plot results inline, not in a separate window\n",
    "#%matplotlib inline\n",
    "\n",
    "color1 = '#137a28' # dark green\n",
    "color2 = '#b3d1b9' # light transparent green"
   ]
  },
  {
   "cell_type": "markdown",
   "metadata": {
    "deletable": true,
    "editable": true
   },
   "source": [
    "## Number of transactions awaiting confirmation (Mempool size)"
   ]
  },
  {
   "cell_type": "code",
   "execution_count": 4,
   "metadata": {
    "collapsed": false,
    "deletable": true,
    "editable": true,
    "scrolled": false
   },
   "outputs": [],
   "source": [
    "# import mempool data downloaded from https://blockchain.info/charts/mempool-count?timespan=all\n",
    "mempool = pd.read_csv(\n",
    "    'mempool-count.csv', \n",
    "    header=None, \n",
    "    names=['DateTime','size'], \n",
    "    parse_dates=[0], \n",
    "    infer_datetime_format=True\n",
    "    )\n",
    "\n",
    "# split the datetime to date and time\n",
    "temp = pd.DatetimeIndex(mempool['DateTime'])\n",
    "mempool['Date'] = temp.date\n",
    "mempool['Time'] = temp.time\n",
    "del mempool['DateTime']\n",
    "\n",
    "# reorder the columns\n",
    "cols = ['Date','Time','size']\n",
    "mempool = mempool[cols]\n",
    "mempool.set_index('Date', inplace=True)\n",
    "\n",
    "d2 = pd.to_datetime('2017-07-31').date()\n",
    "mempool = pd.concat([mempool.loc[:d2]])"
   ]
  },
  {
   "cell_type": "code",
   "execution_count": 5,
   "metadata": {
    "collapsed": false,
    "deletable": true,
    "editable": true,
    "scrolled": false
   },
   "outputs": [],
   "source": [
    "# there are 3 values per day. get average mempool size for each day\n",
    "mempool = mempool.groupby([mempool.index.get_level_values('Date')]).mean()"
   ]
  },
  {
   "cell_type": "code",
   "execution_count": 6,
   "metadata": {
    "collapsed": false,
    "deletable": true,
    "editable": true,
    "scrolled": false
   },
   "outputs": [],
   "source": [
    "# mempool.loc[mempool['size'].idxmax()]"
   ]
  },
  {
   "cell_type": "markdown",
   "metadata": {
    "deletable": true,
    "editable": true
   },
   "source": [
    "The number of transactions waiting to be confirmed on the Bitcoin blockchain increased to an all time maximum on May 18th of 175,978. For comparison, the average value in 2016 was less than 10,000.\n",
    "\n",
    "Once the the number of unconfirmed transactions had peaked, it fell about as quickly as it rose and by mid July was generally below 10,000 again."
   ]
  },
  {
   "cell_type": "code",
   "execution_count": 7,
   "metadata": {
    "collapsed": false,
    "deletable": true,
    "editable": true,
    "scrolled": false
   },
   "outputs": [
    {
     "data": {
      "text/html": [
       "<iframe id=\"igraph\" scrolling=\"no\" style=\"border:none;\" seamless=\"seamless\" src=\"https://plot.ly/~mthwsjc/35.embed\" height=\"525px\" width=\"100%\"></iframe>"
      ],
      "text/plain": [
       "<plotly.tools.PlotlyDisplay object>"
      ]
     },
     "execution_count": 7,
     "metadata": {},
     "output_type": "execute_result"
    }
   ],
   "source": [
    "mempool['size_av']=mempool['size'].rolling(window=7).mean();\n",
    "\n",
    "series1 = go.Scatter( \n",
    "    x=mempool.index.get_level_values('Date'), \n",
    "    y=mempool['size'], \n",
    "    name='Daily average',\n",
    "    line = dict(\n",
    "        color = (color2),\n",
    "        width = 2,))\n",
    "\n",
    "series2 = go.Scatter( \n",
    "    x=mempool.index.get_level_values('Date'), \n",
    "    y=mempool['size_av'], \n",
    "    name='Weekly average',\n",
    "    line = dict(\n",
    "        color = (color1),\n",
    "        width = 3,))\n",
    "\n",
    "data = [series1, series2]\n",
    "\n",
    "layout = go.Layout(\n",
    "    title='Unconfirmed transactions',\n",
    "    yaxis=dict(title='Number of transactions'),\n",
    "    legend=dict(orientation=\"h\", yanchor='top', y=1, xanchor='center', x=0.5)\n",
    "    )\n",
    "\n",
    "fig = go.Figure(data=data, layout=layout)\n",
    "py.iplot(fig, filename='bitcoin_mempool')"
   ]
  },
  {
   "cell_type": "markdown",
   "metadata": {
    "deletable": true,
    "editable": true
   },
   "source": [
    "## Median time taken for transactions to be accepted into a block (minutes)\n",
    "\n",
    "I would expect that the average time taken to confirm a transaction will increase with the size of the unconfirmed transaction pool. The figure below shows the median time in minutes for a new transaction to be confirmed."
   ]
  },
  {
   "cell_type": "code",
   "execution_count": 8,
   "metadata": {
    "collapsed": false,
    "deletable": true,
    "editable": true,
    "scrolled": false
   },
   "outputs": [],
   "source": [
    "# The Daily Median time taken for transactions to be accepted into a block, presumably in minutes\n",
    "ATRCT = quandl.get(\"BCHAIN/ATRCT\")\n",
    "ATRCT = ATRCT.loc['2016-04-24':'2017-07-31']"
   ]
  },
  {
   "cell_type": "code",
   "execution_count": 9,
   "metadata": {
    "collapsed": false,
    "deletable": true,
    "editable": true,
    "scrolled": false
   },
   "outputs": [
    {
     "data": {
      "text/html": [
       "<iframe id=\"igraph\" scrolling=\"no\" style=\"border:none;\" seamless=\"seamless\" src=\"https://plot.ly/~mthwsjc/37.embed\" height=\"525px\" width=\"100%\"></iframe>"
      ],
      "text/plain": [
       "<plotly.tools.PlotlyDisplay object>"
      ]
     },
     "execution_count": 9,
     "metadata": {},
     "output_type": "execute_result"
    }
   ],
   "source": [
    "ATRCT['artct_av']=ATRCT['Value'].rolling(window=7).mean();\n",
    "\n",
    "series1 = go.Scatter( \n",
    "    x=mempool.index.get_level_values('Date'), \n",
    "    y=ATRCT['Value'], \n",
    "    name='Daily median',\n",
    "    line = dict(\n",
    "        color = (color2),\n",
    "        width = 2))\n",
    "\n",
    "series2 = go.Scatter( \n",
    "    x=mempool.index.get_level_values('Date'), \n",
    "    y=ATRCT['artct_av'], \n",
    "    name='7 day average',\n",
    "    line = dict(\n",
    "        color = (color1),\n",
    "        width = 3))\n",
    "\n",
    "data = [series1, series2]\n",
    "\n",
    "layout = go.Layout(\n",
    "    title='Median time taken for transactions to be accepted into a block',\n",
    "    yaxis=dict(title='Time (minutes)'),\n",
    "    legend=dict(orientation=\"h\", yanchor='top', y=1.1, xanchor='center', x=0.5)\n",
    "    )\n",
    "\n",
    "fig = go.Figure(data=data, layout=layout)\n",
    "py.iplot(fig, filename='btc_acceptance_time')"
   ]
  },
  {
   "cell_type": "markdown",
   "metadata": {
    "deletable": true,
    "editable": true
   },
   "source": [
    "The median transaction confirmation time does not increase noticeably when the pool of unconfirmed transactions increases, in fact the two features have only a weak Pearson correlation of 0.37 (details below). This is surprising because I expected that the time taken to confirm a transaction would increases when the pool of transactions waiting to be confirmed increases.\n",
    "\n",
    "Perhaps this is because only valid transactions can be confirmed and included in the median average calculation, but invalid transactions are included in the pool of transactions awaiting confirmation. One way to test this would be to query the transactions awaiting confirmation and quantify if they are valid and what fee rate they are offering."
   ]
  },
  {
   "cell_type": "markdown",
   "metadata": {
    "deletable": true,
    "editable": true
   },
   "source": [
    "## Average block size (daily, MB) \n",
    "\n",
    "Each block in the Bitcoin network had a maximum size of 1MB before 1 August 2017. As the Bitcoin network has grown and transaction volume has increased the blocksize limit began to limit transaction volume. \n",
    "\n",
    "Was the increase in unconfirmed transactions correlated to the blocks getting \"filled up\" to their maximum 1MB size?"
   ]
  },
  {
   "cell_type": "code",
   "execution_count": 10,
   "metadata": {
    "collapsed": true,
    "deletable": true,
    "editable": true,
    "scrolled": false
   },
   "outputs": [],
   "source": [
    "# The Average block size in MB\n",
    "AVBLS = quandl.get(\"BCHAIN/AVBLS\")"
   ]
  },
  {
   "cell_type": "code",
   "execution_count": 11,
   "metadata": {
    "collapsed": false,
    "deletable": true,
    "editable": true,
    "scrolled": false
   },
   "outputs": [],
   "source": [
    "av_bs = AVBLS.loc['2016-04-24':'2017-07-31']\n",
    "av_bs['Size']=av_bs['Value']\n",
    "del av_bs['Value']"
   ]
  },
  {
   "cell_type": "code",
   "execution_count": 12,
   "metadata": {
    "collapsed": false,
    "deletable": true,
    "editable": true,
    "scrolled": false
   },
   "outputs": [
    {
     "data": {
      "text/html": [
       "<iframe id=\"igraph\" scrolling=\"no\" style=\"border:none;\" seamless=\"seamless\" src=\"https://plot.ly/~mthwsjc/39.embed\" height=\"525px\" width=\"100%\"></iframe>"
      ],
      "text/plain": [
       "<plotly.tools.PlotlyDisplay object>"
      ]
     },
     "execution_count": 12,
     "metadata": {},
     "output_type": "execute_result"
    }
   ],
   "source": [
    "av_bs['Size_av']=av_bs['Size'].rolling(window=7).mean();\n",
    "\n",
    "series1 = go.Scatter( \n",
    "    x=mempool.index.get_level_values('Date'), \n",
    "    y=av_bs['Size'], \n",
    "    name='Average',\n",
    "    line = dict(\n",
    "        color = (color2),\n",
    "        width = 2))\n",
    "\n",
    "series2 = go.Scatter( \n",
    "    x=mempool.index.get_level_values('Date'), \n",
    "    y=av_bs['Size_av'], \n",
    "    name='7 day average',\n",
    "    line = dict(\n",
    "        color = (color1),\n",
    "        width = 3))\n",
    "\n",
    "data = [series1, series2]\n",
    "\n",
    "layout = go.Layout(\n",
    "    title='Block size',\n",
    "    yaxis=dict(title='Block size (MB)'),\n",
    "    legend=dict(orientation=\"h\", yanchor='top', y=1.1, xanchor='center', x=0.5)\n",
    "    )\n",
    "\n",
    "fig = go.Figure(data=data, layout=layout)\n",
    "py.iplot(fig, filename='btc_block_size')"
   ]
  },
  {
   "cell_type": "markdown",
   "metadata": {
    "deletable": true,
    "editable": true
   },
   "source": [
    "From March through June the blocksizes seem to have frequently hit their maximum possible size, suggesting that the Bitcoin network was processing the maximum amount of data possible. The increase in unconfirmed transactions occurred from mid-April to end of June.\n",
    "\n",
    "The average block size began a sharp decrease on July 2nd, and at the same time the median transaction confirmation time also began a quick reduction. By July 2nd the number of unconfirmed transactions had already fallen back to \"normal\" levels. \n",
    "\n",
    "(Not all transactions are the same size, as a transaction can have any number of outputs and inputs, and a transaction with many inputs and/or outputs would be a larger amount of data than a transaction with only 1 input and 1 or 2 outputs.)\n",
    "\n",
    "Lets confirm if the number of transactions increased over the same period:"
   ]
  },
  {
   "cell_type": "markdown",
   "metadata": {
    "deletable": true,
    "editable": true
   },
   "source": [
    "## Average number of transactions per (1MB) block"
   ]
  },
  {
   "cell_type": "code",
   "execution_count": 13,
   "metadata": {
    "collapsed": false,
    "deletable": true,
    "editable": true,
    "scrolled": false
   },
   "outputs": [],
   "source": [
    "# The average number of transactions per block. each day?\n",
    "NTRBL = quandl.get(\"BCHAIN/NTRBL\")\n",
    "NTRBL = NTRBL.loc['2016-04-24':'2017-07-31']"
   ]
  },
  {
   "cell_type": "code",
   "execution_count": 14,
   "metadata": {
    "collapsed": false,
    "deletable": true,
    "editable": true,
    "scrolled": false
   },
   "outputs": [
    {
     "data": {
      "text/html": [
       "<iframe id=\"igraph\" scrolling=\"no\" style=\"border:none;\" seamless=\"seamless\" src=\"https://plot.ly/~mthwsjc/41.embed\" height=\"525px\" width=\"100%\"></iframe>"
      ],
      "text/plain": [
       "<plotly.tools.PlotlyDisplay object>"
      ]
     },
     "execution_count": 14,
     "metadata": {},
     "output_type": "execute_result"
    }
   ],
   "source": [
    "NTRBL['Size_av']=NTRBL['Value'].rolling(window=7).mean();\n",
    "\n",
    "series1 = go.Scatter( \n",
    "    x=mempool.index.get_level_values('Date'), \n",
    "    y=NTRBL['Value'], \n",
    "    name='Average transactions per block',\n",
    "    line = dict(\n",
    "        color = (color2),\n",
    "        width = 2))\n",
    "\n",
    "series2 = go.Scatter( \n",
    "    x=mempool.index.get_level_values('Date'), \n",
    "    y=NTRBL['Size_av'], \n",
    "    name='7 day average',\n",
    "    line = dict(\n",
    "        color = (color1),\n",
    "        width = 3))\n",
    "\n",
    "data = [series1, series2]\n",
    "\n",
    "layout = go.Layout(\n",
    "    title='Average number of transactions per block',\n",
    "    yaxis=dict(title='Number of transactions'),\n",
    "    legend=dict(orientation=\"h\", yanchor='top', y=1.1, xanchor='center', x=0.5)\n",
    "    )\n",
    "\n",
    "fig = go.Figure(data=data, layout=layout)\n",
    "py.iplot(fig, filename='btc_tnsx_per_block')"
   ]
  },
  {
   "cell_type": "markdown",
   "metadata": {
    "deletable": true,
    "editable": true
   },
   "source": [
    "The average number of transactions per block hit a peak at the end of May 2017 and then saw two sharp declines. It fell quickly at the beginning of June and then again at the beginning of July. \n",
    "\n",
    "In June the blocksizes remained more or less as large as possible which suggests the blocks were full of a few large transactions. At this time the size of the mempool was decreasing rapidly. \n",
    "\n",
    "At the beginning of July the number of transactions per block reduced and the average blocksize was also rapidly reducing. This suggests that the volume of smaller transactions had reduced.\n",
    "\n",
    "The difference in average blocksizes in early June and early July suggests that in early June the number of transactions reduced because the average size of transactions had increased, but in July the number of transactions per block reduced because fewer transactions were being created.  \n",
    "\n",
    "Perhaps Bitcoin exchanges and other organisations with high transaction volumes had changed their behaviour and begun posting larger transactions with many inputs and/or outputs, rather than posting many smaller transactions with fewer inputs and/or outputs. \n",
    "\n",
    "Bitcoin is often held by speculators who expect the value of a Bitcoin to increase. Perhaps increases in transaction volume are correlated to increases in Bitcoins value."
   ]
  },
  {
   "cell_type": "markdown",
   "metadata": {
    "deletable": true,
    "editable": true
   },
   "source": [
    "## Total transactions fees earned by miners per day\n",
    "\n",
    "Transaction fees are charged to users sending Bitcoin. Node operators (miners) collect unconfirmed transactions, confirm their validity and perform the proof-of-work requirements to submit these transactions as a new block of the blockchain.  \n",
    "\n",
    "In order to provide an incentive for node operators to process and confirm new transactions, and to compensate for the equipment and energy costs required to do so, a fee is charged to confirm each transaction. The size of the fee is proportional to the size (in bytes) of the transaction and is quantified as the fee *rate* (Satoshis/byte), otherwise miners would prefer smaller sized transactions as they could fit more into each block. \n",
    "\n",
    "The pool of unconfirmed transactions is automatically sorted by transaction fee rate, so that miners confirm transactions with a higher fee rate before those with a lower fee rate.\n",
    "\n",
    "Because of this, it is expected that as the number of unconfirmed transactions increases, the fees paid to ensure a transaction gets processed will also increase. This is shown in the figure below.\n",
    "\n",
    "Perhaps one reason the number of unconfirmed transactions grew was because the fee rate offered for many of these transactions was below some threshold where it wasn't worth the miners efforts to confirm them. \n",
    "\n",
    "The total value of confirmation fees earned per day and the size of the unconfirmed transaction pool are plotted below:"
   ]
  },
  {
   "cell_type": "code",
   "execution_count": 15,
   "metadata": {
    "collapsed": false,
    "deletable": true,
    "editable": true,
    "scrolled": false
   },
   "outputs": [],
   "source": [
    "# transaction fees - the total BTC value of transaction fees miners earn per day.\n",
    "TRFEE = quandl.get(\"BCHAIN/TRFEE\")"
   ]
  },
  {
   "cell_type": "code",
   "execution_count": 16,
   "metadata": {
    "collapsed": false,
    "deletable": true,
    "editable": true,
    "scrolled": false
   },
   "outputs": [],
   "source": [
    "tn_fee = TRFEE.loc['2016-04-24':'2017-07-31']\n",
    "tn_fee['Fee']=tn_fee['Value']\n",
    "del tn_fee['Value']"
   ]
  },
  {
   "cell_type": "code",
   "execution_count": 17,
   "metadata": {
    "collapsed": false,
    "deletable": true,
    "editable": true,
    "scrolled": false
   },
   "outputs": [
    {
     "data": {
      "text/html": [
       "<iframe id=\"igraph\" scrolling=\"no\" style=\"border:none;\" seamless=\"seamless\" src=\"https://plot.ly/~mthwsjc/43.embed\" height=\"525px\" width=\"100%\"></iframe>"
      ],
      "text/plain": [
       "<plotly.tools.PlotlyDisplay object>"
      ]
     },
     "execution_count": 17,
     "metadata": {},
     "output_type": "execute_result"
    }
   ],
   "source": [
    "tn_fee['Fee_av']=tn_fee['Fee'].rolling(window=1).mean();\n",
    "\n",
    "trace1 = go.Scatter( \n",
    "    x=mempool.index.get_level_values('Date'), \n",
    "    y=mempool['size'], \n",
    "    name='Unconfirmed transactions' ) # used later\n",
    "\n",
    "trace2 = go.Scatter( \n",
    "    x=tn_fee.index.get_level_values('Date'), \n",
    "    y=tn_fee['Fee_av'], \n",
    "    name='Transaction fee',\n",
    "    yaxis='y2' )\n",
    "\n",
    "data2 = [trace1, trace2]\n",
    "\n",
    "layout = go.Layout(\n",
    "    title='Total value (BTC) of transaction confirmation fees earned each day',\n",
    "    legend=dict(orientation=\"h\", yanchor='top', y=1.1, xanchor='center', x=0.5),\n",
    "    xaxis=dict(\n",
    "        ticklen=7,\n",
    "        tickcolor='#ffffff',\n",
    "    \t),\n",
    "    yaxis=dict(\n",
    "        title='Number of unconfirmed transactions',\n",
    "        autorange=True,\n",
    "        showgrid=False,\n",
    "        zeroline=True,\n",
    "        showline=False,\n",
    "        autotick=True,\n",
    "        ticks='',\n",
    "        showticklabels=True,\n",
    "        rangemode='tozero'\n",
    "        ),\n",
    "    yaxis2=dict(\n",
    "        title='Daily sum of confirmation fees (BTC)',\n",
    "        zeroline=False,\n",
    "\t\toverlaying='y',\n",
    "\t\tside='right',\n",
    "        rangemode='tozero'\n",
    "    )\n",
    ")\n",
    "fig = go.Figure(data=data2, layout=layout)\n",
    "py.iplot(fig, filename='multiple-axes-double')\n",
    "\n",
    "#py.iplot(data, filename='btc_AVBLS_av')\n"
   ]
  },
  {
   "cell_type": "markdown",
   "metadata": {
    "deletable": true,
    "editable": true
   },
   "source": [
    "It looks as if confirmation fees correlate positively to the number of unconfirmed transactions. This is expected as users would need to pay higher fees when there are a lot of unconfirmed transactions in order to have their transactions moved towards the front of the queue and processed reasonably quickly. \n",
    "\n",
    "However it looks as if changes to a miners fee rate lags behind changes in the size of the unconfirmed transaction pool by about 2 weeks. The variation in the transaction fee is also a lot smaller than variation in the size of the unconfirmed transaction pool. \n",
    "\n",
    "This suggests that the method for calculating transaction the fee rate could be improved so that fee rate responds faster to changes in the number of transactions awaiting confirmation. This would make mining less profitable and more competitive, and would make the Bitcoin network cheaper for users. \n",
    "\n",
    "Lets look at how expensive it is to use the Bitcoin network by analysing the transaction fee rate relative to transaction values. "
   ]
  },
  {
   "cell_type": "code",
   "execution_count": 18,
   "metadata": {
    "collapsed": true,
    "deletable": true,
    "editable": true,
    "scrolled": false
   },
   "outputs": [],
   "source": [
    "# The Average transaction confirmation fee rate (%)\n",
    "CPTRV = quandl.get(\"BCHAIN/CPTRV\")\n",
    "CPTRV = CPTRV.loc['2016-04-24':'2017-07-31']"
   ]
  },
  {
   "cell_type": "code",
   "execution_count": 19,
   "metadata": {
    "collapsed": false,
    "deletable": true,
    "editable": true,
    "scrolled": false
   },
   "outputs": [
    {
     "data": {
      "text/html": [
       "<iframe id=\"igraph\" scrolling=\"no\" style=\"border:none;\" seamless=\"seamless\" src=\"https://plot.ly/~mthwsjc/45.embed\" height=\"525px\" width=\"100%\"></iframe>"
      ],
      "text/plain": [
       "<plotly.tools.PlotlyDisplay object>"
      ]
     },
     "execution_count": 19,
     "metadata": {},
     "output_type": "execute_result"
    }
   ],
   "source": [
    "CPTRV['Fee_av']=CPTRV['Value'].rolling(window=7).mean();\n",
    "\n",
    "series1 = go.Scatter( \n",
    "    x=mempool.index.get_level_values('Date'), \n",
    "    y=CPTRV['Value'], \n",
    "    name='Fee rate',\n",
    "    line = dict(\n",
    "        color = (color2),\n",
    "        width = 2))\n",
    "\n",
    "series2 = go.Scatter( \n",
    "    x=mempool.index.get_level_values('Date'), \n",
    "    y=CPTRV['Fee_av'], \n",
    "    name='7 day average',\n",
    "    line = dict(\n",
    "        color = (color1),\n",
    "        width = 3))\n",
    "\n",
    "data = [series1, series2]\n",
    "\n",
    "layout = go.Layout(\n",
    "    title='Miners revenue as as percentage of the transaction volume',\n",
    "    yaxis=dict(title='Fee rate (%)'),\n",
    "    legend=dict(orientation=\"h\", yanchor='top', y=1.1, xanchor='center', x=0.5)\n",
    "    )\n",
    "\n",
    "fig = go.Figure(data=data, layout=layout)\n",
    "py.iplot(fig, filename='btc_tnsx_fee_rate')"
   ]
  },
  {
   "cell_type": "markdown",
   "metadata": {
    "deletable": true,
    "editable": true
   },
   "source": [
    "The results show that a fee rate (Miners Revenue/Transaction Volume) of 0.5-1% is typical on the Bitcoin network. This is a bit cheaper than ecommerce [payment methods](https://merchantmachine.co.uk/compare/).\n",
    "\n",
    "Surprinsingly, there is a correlation of -0.25 with the number of unconfirmed transactions. This means the fee rate decreases when the number of unconfirmed transactions increases. The correlation is weak. One possible explanation for this may be that activity on the network increases when the price of Bitcoin increases. When the price of Bitcoin increases, more resources are allocated to mining because it is increasingly profitable. Also, more people decide to buy Bitcoin because it's becoming so valuable. This leads to more transactions but even more miners competing to confirm transactions and claim the rewards. This increase in supply drives down the transaction confirmation fee rate. \n",
    "\n",
    "Lets see how the number of transactions per day has changed in 2017 so far:"
   ]
  },
  {
   "cell_type": "code",
   "execution_count": 20,
   "metadata": {
    "collapsed": false,
    "deletable": true,
    "editable": true
   },
   "outputs": [],
   "source": [
    "# Number of Transactions from Popular Addresses\n",
    "NTREP = quandl.get(\"BCHAIN/NTREP\") # excluding popular addresses\n",
    "NTRAN = quandl.get(\"BCHAIN/NTRAN\") # from all addresses\n",
    "\n",
    "NTREP = NTREP.loc['2017-01-13':'2017-07-31'] #excl. popular\n",
    "NTRAN = NTRAN.loc['2017-01-13':'2017-07-31'] #all addresses\n",
    "\n",
    "NTRFP = NTRAN - NTREP # Popular only\n",
    "NTRFP['all'] = NTRAN['Value']\n",
    "NTRFP['unpop'] = NTREP['Value']\n",
    "NTRFP['pop'] = NTRFP['all'] - NTRFP['unpop'] \n",
    "#NTRFP.head()"
   ]
  },
  {
   "cell_type": "code",
   "execution_count": 21,
   "metadata": {
    "collapsed": false,
    "deletable": true,
    "editable": true,
    "scrolled": false
   },
   "outputs": [
    {
     "data": {
      "text/html": [
       "<iframe id=\"igraph\" scrolling=\"no\" style=\"border:none;\" seamless=\"seamless\" src=\"https://plot.ly/~mthwsjc/47.embed\" height=\"525px\" width=\"100%\"></iframe>"
      ],
      "text/plain": [
       "<plotly.tools.PlotlyDisplay object>"
      ]
     },
     "execution_count": 21,
     "metadata": {},
     "output_type": "execute_result"
    }
   ],
   "source": [
    "NTRFP['pop_av']=NTRFP['Value'].rolling(window=7).mean();\n",
    "NTRFP['unpop_av']=NTRFP['unpop'].rolling(window=7).mean();\n",
    "NTRFP['all_av']=NTRFP['all'].rolling(window=7).mean();\n",
    "\n",
    "series1 = go.Scatter( \n",
    "    x=NTRFP.index.get_level_values('Date'), \n",
    "    y=NTRFP['all'], \n",
    "    name='From all addresses',\n",
    "    line = dict(\n",
    "        color = (color2),\n",
    "        width = 2))\n",
    "\n",
    "series2 = go.Scatter( \n",
    "    x=NTRFP.index.get_level_values('Date'), \n",
    "    y=NTRFP['all_av'], \n",
    "    name='From all addresses - 7 day average',\n",
    "    line = dict(\n",
    "        color = (color1),\n",
    "        width = 3))\n",
    "\n",
    "series3 = go.Scatter( \n",
    "    x=NTRFP.index.get_level_values('Date'), \n",
    "    y=NTRFP['unpop'], \n",
    "    name='Transactions excluding 100 most popular addresses',\n",
    "    yaxis='y1',\n",
    "    line = dict(\n",
    "        color = ('#CEB7DF'),\n",
    "        width = 2))\n",
    "\n",
    "series4 = go.Scatter( \n",
    "    x=NTRFP.index.get_level_values('Date'), \n",
    "    y=NTRFP['unpop_av'], \n",
    "    name='Transactions excluding 100 most popular addresses - 7 day average',\n",
    "    yaxis='y1',\n",
    "    line = dict(\n",
    "        color = ('#830DD4'),\n",
    "        width = 3))\n",
    "\n",
    "series5 = go.Scatter( \n",
    "    x=NTRFP.index.get_level_values('Date'), \n",
    "    y=NTRFP['pop_av'], \n",
    "    name='Difference - 7 day average',\n",
    "    yaxis='y2',\n",
    "    line = dict(\n",
    "        color = ('#4FA6D4'),\n",
    "        width = 3))\n",
    "\n",
    "data = [series1, series2, series3, series4, series5]\n",
    "\n",
    "layout = go.Layout(\n",
    "    title='Bitcoin transactions per day',\n",
    "    xaxis=dict(\n",
    "        ticklen=5,\n",
    "        tickcolor='#ffffff',\n",
    "    \t),\n",
    "    yaxis=dict(\n",
    "        title='Transactions per day',\n",
    "        autorange=True,\n",
    "        showgrid=False,\n",
    "        zeroline=True,\n",
    "        showline=False,\n",
    "        autotick=True,\n",
    "        ticks='',\n",
    "        ticklen=7,\n",
    "        tickcolor='#ffffff',\n",
    "        showticklabels=True,\n",
    "              ),\n",
    "     yaxis2=dict(\n",
    "        title='Difference',\n",
    "        zeroline=False,\n",
    "\t\toverlaying='y',\n",
    "\t\tside='right',\n",
    "            ),\n",
    "    legend=dict(\n",
    "        orientation=\"v\", \n",
    "        y=-0.45,  \n",
    "        x=0,\n",
    "        ) \n",
    "    )\n",
    "\n",
    "fig = go.Figure(data=data, layout=layout)\n",
    "py.iplot(fig, filename='btc_num_tnsxs')"
   ]
  },
  {
   "cell_type": "markdown",
   "metadata": {
    "deletable": true,
    "editable": true
   },
   "source": [
    "The figure above shows the number of transactions posted each day from all addresses, and the number of transactions each day from addresses excluding the 100 most popular addresses. The difference between the two (the number of transactions from the 100 most popular addresses) is shown in blue using the axis on the right. \n",
    "\n",
    "There is a positive correlation with the size of the unconfirmed transaction pool. Interestingly there is a stronger correlation with transactions created by the 100 most popular addresses (0.54) than for unpopular addresses (0.46). Possible reasons for this are discussed below. \n",
    "\n",
    "Finally, lets consider the influence of the price of Bitcoin on the size of the unconfirmed transaction pool:"
   ]
  },
  {
   "cell_type": "code",
   "execution_count": 22,
   "metadata": {
    "collapsed": true,
    "deletable": true,
    "editable": true,
    "scrolled": false
   },
   "outputs": [],
   "source": [
    "# The USD value of BTC\n",
    "MKPRU = quandl.get(\"BCHAIN/MKPRU\")\n",
    "MKPRU = MKPRU.loc['2016-04-24':'2017-07-31']"
   ]
  },
  {
   "cell_type": "code",
   "execution_count": 23,
   "metadata": {
    "collapsed": false,
    "deletable": true,
    "editable": true,
    "scrolled": false
   },
   "outputs": [
    {
     "data": {
      "text/html": [
       "<iframe id=\"igraph\" scrolling=\"no\" style=\"border:none;\" seamless=\"seamless\" src=\"https://plot.ly/~mthwsjc/49.embed\" height=\"525px\" width=\"100%\"></iframe>"
      ],
      "text/plain": [
       "<plotly.tools.PlotlyDisplay object>"
      ]
     },
     "execution_count": 23,
     "metadata": {},
     "output_type": "execute_result"
    }
   ],
   "source": [
    "MKPRU['mkt_av']=MKPRU['Value'].rolling(window=7).mean();\n",
    "\n",
    "series1 = go.Scatter( \n",
    "    x=MKPRU.index.get_level_values('Date'), \n",
    "    y=MKPRU['Value'], \n",
    "    name='Daily',\n",
    "    line = dict(\n",
    "        color = (color2),\n",
    "        width = 2))\n",
    "\n",
    "series2 = go.Scatter( \n",
    "    x=MKPRU.index.get_level_values('Date'), \n",
    "    y=MKPRU['mkt_av'], \n",
    "    name='7 day average',\n",
    "    line = dict(\n",
    "        color = (color1),\n",
    "        width = 3))\n",
    "\n",
    "data = [series1, series2]\n",
    "\n",
    "layout = go.Layout(\n",
    "    title='Bitcoin price',\n",
    "    yaxis=dict(title='Price (USD)'),\n",
    "    legend=dict(orientation=\"h\", yanchor='top', y=1.1, xanchor='center', x=0.5)\n",
    "    )\n",
    "\n",
    "fig = go.Figure(data=data, layout=layout)\n",
    "py.iplot(fig, filename='btc_price')"
   ]
  },
  {
   "cell_type": "markdown",
   "metadata": {
    "deletable": true,
    "editable": true
   },
   "source": [
    "Apart from showing a notable increase of around 500% in 13 months, the price has a correlation of just 0.42 with the size of the unconfirmed transaction pool. \n",
    "\n",
    "The number of transactions coming from popular addresses is positively correlated (0.41) to Bitcoin price, suggesting that when the Bitcoin price increases trading activity on exchanges also increases. Transactions from less popular addresses is inversely correlated to Bitcoin price (-0.31) and this could be because when the Bitcoin price surges, individuals holding Bitcoin do not want to spend Bitcoin to make purchases, and will need to use an exchange to convert fiat currencies into Bitcoin. \n",
    "\n",
    "Note that ordinarily a new address is used for each Bitcoin transaction. "
   ]
  },
  {
   "cell_type": "markdown",
   "metadata": {
    "deletable": true,
    "editable": true
   },
   "source": [
    "The table below shows the Pearson correlation factors between each of the time series considered in this post.\n",
    "\n",
    "If you would like to see the current state of the unconfirmed transaction pool, and see what fee rates are currently being offered, click [here](https://bitcoinfees.21.co/)."
   ]
  },
  {
   "cell_type": "code",
   "execution_count": 24,
   "metadata": {
    "collapsed": false,
    "deletable": true,
    "editable": true
   },
   "outputs": [
    {
     "data": {
      "text/html": [
       "<div>\n",
       "<style>\n",
       "    .dataframe thead tr:only-child th {\n",
       "        text-align: right;\n",
       "    }\n",
       "\n",
       "    .dataframe thead th {\n",
       "        text-align: left;\n",
       "    }\n",
       "\n",
       "    .dataframe tbody tr th {\n",
       "        vertical-align: top;\n",
       "    }\n",
       "</style>\n",
       "<table border=\"1\" class=\"dataframe\">\n",
       "  <thead>\n",
       "    <tr style=\"text-align: right;\">\n",
       "      <th></th>\n",
       "      <th>Unconfirmed transactions</th>\n",
       "      <th>Confirmaton time</th>\n",
       "      <th>Block size</th>\n",
       "      <th>Transactions per block</th>\n",
       "      <th>Sum of confirmation fees</th>\n",
       "      <th>Fee rate</th>\n",
       "      <th>USD/BTC</th>\n",
       "      <th>Transactions from popular addresses</th>\n",
       "      <th>Transactions from unpopular addresses</th>\n",
       "    </tr>\n",
       "  </thead>\n",
       "  <tbody>\n",
       "    <tr>\n",
       "      <th>Unconfirmed transactions</th>\n",
       "      <td>1.000000</td>\n",
       "      <td>0.376910</td>\n",
       "      <td>0.434635</td>\n",
       "      <td>0.486501</td>\n",
       "      <td>0.660114</td>\n",
       "      <td>-0.254604</td>\n",
       "      <td>0.432228</td>\n",
       "      <td>0.537430</td>\n",
       "      <td>0.456938</td>\n",
       "    </tr>\n",
       "    <tr>\n",
       "      <th>Confirmaton time</th>\n",
       "      <td>0.376910</td>\n",
       "      <td>1.000000</td>\n",
       "      <td>0.644742</td>\n",
       "      <td>0.635315</td>\n",
       "      <td>0.486090</td>\n",
       "      <td>-0.312045</td>\n",
       "      <td>0.358283</td>\n",
       "      <td>0.054786</td>\n",
       "      <td>0.283015</td>\n",
       "    </tr>\n",
       "    <tr>\n",
       "      <th>Block size</th>\n",
       "      <td>0.434635</td>\n",
       "      <td>0.644742</td>\n",
       "      <td>1.000000</td>\n",
       "      <td>0.837809</td>\n",
       "      <td>0.623952</td>\n",
       "      <td>-0.532833</td>\n",
       "      <td>0.482571</td>\n",
       "      <td>0.339330</td>\n",
       "      <td>0.453510</td>\n",
       "    </tr>\n",
       "    <tr>\n",
       "      <th>Transactions per block</th>\n",
       "      <td>0.486501</td>\n",
       "      <td>0.635315</td>\n",
       "      <td>0.837809</td>\n",
       "      <td>1.000000</td>\n",
       "      <td>0.495997</td>\n",
       "      <td>-0.596952</td>\n",
       "      <td>0.227986</td>\n",
       "      <td>0.282945</td>\n",
       "      <td>0.805565</td>\n",
       "    </tr>\n",
       "    <tr>\n",
       "      <th>Sum of confirmation fees</th>\n",
       "      <td>0.660114</td>\n",
       "      <td>0.486090</td>\n",
       "      <td>0.623952</td>\n",
       "      <td>0.495997</td>\n",
       "      <td>1.000000</td>\n",
       "      <td>-0.265631</td>\n",
       "      <td>0.828562</td>\n",
       "      <td>0.579680</td>\n",
       "      <td>0.340477</td>\n",
       "    </tr>\n",
       "    <tr>\n",
       "      <th>Fee rate</th>\n",
       "      <td>-0.254604</td>\n",
       "      <td>-0.312045</td>\n",
       "      <td>-0.532833</td>\n",
       "      <td>-0.596952</td>\n",
       "      <td>-0.265631</td>\n",
       "      <td>1.000000</td>\n",
       "      <td>-0.160463</td>\n",
       "      <td>-0.393621</td>\n",
       "      <td>-0.364099</td>\n",
       "    </tr>\n",
       "    <tr>\n",
       "      <th>USD/BTC</th>\n",
       "      <td>0.432228</td>\n",
       "      <td>0.358283</td>\n",
       "      <td>0.482571</td>\n",
       "      <td>0.227986</td>\n",
       "      <td>0.828562</td>\n",
       "      <td>-0.160463</td>\n",
       "      <td>1.000000</td>\n",
       "      <td>0.428230</td>\n",
       "      <td>-0.265280</td>\n",
       "    </tr>\n",
       "    <tr>\n",
       "      <th>Transactions from popular addresses</th>\n",
       "      <td>0.537430</td>\n",
       "      <td>0.054786</td>\n",
       "      <td>0.339330</td>\n",
       "      <td>0.282945</td>\n",
       "      <td>0.579680</td>\n",
       "      <td>-0.393621</td>\n",
       "      <td>0.428230</td>\n",
       "      <td>1.000000</td>\n",
       "      <td>0.317509</td>\n",
       "    </tr>\n",
       "    <tr>\n",
       "      <th>Transactions from unpopular addresses</th>\n",
       "      <td>0.456938</td>\n",
       "      <td>0.283015</td>\n",
       "      <td>0.453510</td>\n",
       "      <td>0.805565</td>\n",
       "      <td>0.340477</td>\n",
       "      <td>-0.364099</td>\n",
       "      <td>-0.265280</td>\n",
       "      <td>0.317509</td>\n",
       "      <td>1.000000</td>\n",
       "    </tr>\n",
       "  </tbody>\n",
       "</table>\n",
       "</div>"
      ],
      "text/plain": [
       "                                       Unconfirmed transactions  \\\n",
       "Unconfirmed transactions                               1.000000   \n",
       "Confirmaton time                                       0.376910   \n",
       "Block size                                             0.434635   \n",
       "Transactions per block                                 0.486501   \n",
       "Sum of confirmation fees                               0.660114   \n",
       "Fee rate                                              -0.254604   \n",
       "USD/BTC                                                0.432228   \n",
       "Transactions from popular addresses                    0.537430   \n",
       "Transactions from unpopular addresses                  0.456938   \n",
       "\n",
       "                                       Confirmaton time  Block size  \\\n",
       "Unconfirmed transactions                       0.376910    0.434635   \n",
       "Confirmaton time                               1.000000    0.644742   \n",
       "Block size                                     0.644742    1.000000   \n",
       "Transactions per block                         0.635315    0.837809   \n",
       "Sum of confirmation fees                       0.486090    0.623952   \n",
       "Fee rate                                      -0.312045   -0.532833   \n",
       "USD/BTC                                        0.358283    0.482571   \n",
       "Transactions from popular addresses            0.054786    0.339330   \n",
       "Transactions from unpopular addresses          0.283015    0.453510   \n",
       "\n",
       "                                       Transactions per block  \\\n",
       "Unconfirmed transactions                             0.486501   \n",
       "Confirmaton time                                     0.635315   \n",
       "Block size                                           0.837809   \n",
       "Transactions per block                               1.000000   \n",
       "Sum of confirmation fees                             0.495997   \n",
       "Fee rate                                            -0.596952   \n",
       "USD/BTC                                              0.227986   \n",
       "Transactions from popular addresses                  0.282945   \n",
       "Transactions from unpopular addresses                0.805565   \n",
       "\n",
       "                                       Sum of confirmation fees  Fee rate  \\\n",
       "Unconfirmed transactions                               0.660114 -0.254604   \n",
       "Confirmaton time                                       0.486090 -0.312045   \n",
       "Block size                                             0.623952 -0.532833   \n",
       "Transactions per block                                 0.495997 -0.596952   \n",
       "Sum of confirmation fees                               1.000000 -0.265631   \n",
       "Fee rate                                              -0.265631  1.000000   \n",
       "USD/BTC                                                0.828562 -0.160463   \n",
       "Transactions from popular addresses                    0.579680 -0.393621   \n",
       "Transactions from unpopular addresses                  0.340477 -0.364099   \n",
       "\n",
       "                                        USD/BTC  \\\n",
       "Unconfirmed transactions               0.432228   \n",
       "Confirmaton time                       0.358283   \n",
       "Block size                             0.482571   \n",
       "Transactions per block                 0.227986   \n",
       "Sum of confirmation fees               0.828562   \n",
       "Fee rate                              -0.160463   \n",
       "USD/BTC                                1.000000   \n",
       "Transactions from popular addresses    0.428230   \n",
       "Transactions from unpopular addresses -0.265280   \n",
       "\n",
       "                                       Transactions from popular addresses  \\\n",
       "Unconfirmed transactions                                          0.537430   \n",
       "Confirmaton time                                                  0.054786   \n",
       "Block size                                                        0.339330   \n",
       "Transactions per block                                            0.282945   \n",
       "Sum of confirmation fees                                          0.579680   \n",
       "Fee rate                                                         -0.393621   \n",
       "USD/BTC                                                           0.428230   \n",
       "Transactions from popular addresses                               1.000000   \n",
       "Transactions from unpopular addresses                             0.317509   \n",
       "\n",
       "                                       Transactions from unpopular addresses  \n",
       "Unconfirmed transactions                                            0.456938  \n",
       "Confirmaton time                                                    0.283015  \n",
       "Block size                                                          0.453510  \n",
       "Transactions per block                                              0.805565  \n",
       "Sum of confirmation fees                                            0.340477  \n",
       "Fee rate                                                           -0.364099  \n",
       "USD/BTC                                                            -0.265280  \n",
       "Transactions from popular addresses                                 0.317509  \n",
       "Transactions from unpopular addresses                               1.000000  "
      ]
     },
     "execution_count": 24,
     "metadata": {},
     "output_type": "execute_result"
    }
   ],
   "source": [
    "tseries = [\n",
    "    \tmempool['size'],\n",
    "\t\tATRCT['Value'],\n",
    "\t\tav_bs['Size'],\n",
    "\t \tNTRBL['Value'],\n",
    "\t\ttn_fee['Fee'],\n",
    "\t\tCPTRV['Value'],\n",
    "\t\tMKPRU['Value'],\n",
    "\t\tNTRFP['Value'],\n",
    "\t\tNTRFP['unpop']\n",
    "\t\t]\n",
    "\n",
    "\n",
    "cols = ['Unconfirmed transactions', \n",
    "        'Confirmaton time', \n",
    "        'Block size',\n",
    "        'Transactions per block',\n",
    "        'Sum of confirmation fees',\n",
    "        'Fee rate',\n",
    "        'USD/BTC',\n",
    "        'Transactions from popular addresses',\n",
    "        'Transactions from unpopular addresses']\n",
    "\n",
    "tbl = np.zeros((len(tseries), len(tseries))) \n",
    "\n",
    "for i in range(len(tseries)):\n",
    "    for j in range(len(tseries)):\n",
    "        tbl[i,j] = tseries[i].corr(tseries[j], method='pearson', min_periods=None)\n",
    "\n",
    "pd.DataFrame(data=tbl,    # values\n",
    "              index=cols,    # 1st column as index\n",
    "              columns=cols)  # 1st row as the column names\n",
    "\n",
    "        \n",
    "trace = go.Heatmap(z=tbl,\n",
    "                   x=cols,\n",
    "                   y=cols)\n",
    "\n",
    "data=[trace]\n",
    "#py.iplot(data, filename='labelled-heatmap')"
   ]
  },
  {
   "cell_type": "markdown",
   "metadata": {
    "deletable": true,
    "editable": true
   },
   "source": [
    "I also want to compare the number of unique Bitcoin addresses used to the total number of transactions created. I initially expected the ratio of addresses to transactions to be close to 1, not realising that each transaction will contain at least 2 addresses (1 input and 1 output, and probably a 2nd output address which is equal to the input address for the change). If each transaction on average has 2 outputs, then the idea ratio of Bitcoin transactions to addresses will be 0.5."
   ]
  },
  {
   "cell_type": "code",
   "execution_count": 25,
   "metadata": {
    "collapsed": false,
    "deletable": true,
    "editable": true,
    "scrolled": false
   },
   "outputs": [],
   "source": [
    "# unique addresses used each day\n",
    "NADDU = quandl.get(\"BCHAIN/NADDU\")\n",
    "NADDU = NADDU.loc['2016-04-24':'2017-07-31']\n",
    "\n",
    "#number of transactions is NTRAN\n",
    "\n",
    "RATIO = NTRAN / NADDU\n",
    "\n",
    "d1 = pd.to_datetime('2017-01-13').date()\n",
    "d2 = pd.to_datetime('2017-07-31').date()\n",
    "RATIO = pd.concat([RATIO.loc[d1:d2]])"
   ]
  },
  {
   "cell_type": "code",
   "execution_count": 26,
   "metadata": {
    "collapsed": false,
    "deletable": true,
    "editable": true,
    "scrolled": false
   },
   "outputs": [
    {
     "data": {
      "text/html": [
       "<iframe id=\"igraph\" scrolling=\"no\" style=\"border:none;\" seamless=\"seamless\" src=\"https://plot.ly/~mthwsjc/51.embed\" height=\"525px\" width=\"100%\"></iframe>"
      ],
      "text/plain": [
       "<plotly.tools.PlotlyDisplay object>"
      ]
     },
     "execution_count": 26,
     "metadata": {},
     "output_type": "execute_result"
    }
   ],
   "source": [
    "RATIO['weekly_av']=RATIO['Value'].rolling(window=7).mean();\n",
    "\n",
    "series1 = go.Scatter( \n",
    "    x=RATIO.index.get_level_values('Date'), \n",
    "    y=RATIO['Value'], \n",
    "    name='Daily',\n",
    "    line = dict(\n",
    "        color = (color2),\n",
    "        width = 2))\n",
    "\n",
    "series2 = go.Scatter( \n",
    "    x=RATIO.index.get_level_values('Date'), \n",
    "    y=RATIO['weekly_av'], \n",
    "    name='7 day average',\n",
    "    line = dict(\n",
    "        color = (color1),\n",
    "        width = 3))\n",
    "\n",
    "data = [series1, series2]\n",
    "\n",
    "layout = go.Layout(\n",
    "    title='Ratio of transactions to unique addresses',\n",
    "    yaxis=dict(title='Ratio'),\n",
    "    legend=dict(orientation=\"h\", yanchor='top', y=1.1, xanchor='center', x=0.5)\n",
    "    )\n",
    "\n",
    "fig = go.Figure(data=data, layout=layout)\n",
    "py.iplot(fig, filename='btc_add_tnsx_ratio')"
   ]
  },
  {
   "cell_type": "markdown",
   "metadata": {
    "deletable": true,
    "editable": true
   },
   "source": [
    "We see that ratio of unique Bitcoin transactions to unique addresses is approaching 0.5. If users reuse an address for multiple transactions (which is bad) then the ratio will rise above 0.5, and if users create transactions with more than 2 outputs then the ratio will dip below 0.5."
   ]
  }
 ],
 "metadata": {
  "kernelspec": {
   "display_name": "Python 3",
   "language": "python",
   "name": "python3"
  },
  "language_info": {
   "codemirror_mode": {
    "name": "ipython",
    "version": 3
   },
   "file_extension": ".py",
   "mimetype": "text/x-python",
   "name": "python",
   "nbconvert_exporter": "python",
   "pygments_lexer": "ipython3",
   "version": "3.6.0"
  }
 },
 "nbformat": 4,
 "nbformat_minor": 2
}
