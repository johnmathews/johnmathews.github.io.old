{
 "cells": [
  {
   "cell_type": "markdown",
   "metadata": {
    "deletable": true,
    "editable": true
   },
   "source": [
    "# Spotify listening history\n",
    "Spotify recently sent me their '2016 Wrapped' email containing a few statistics about my listening habits in 2016, and a playlist of my 101 most played songs. \n",
    "\n",
    "I decided to compare their statistics with those I'd gathered myself. There is an option in the Preferences menu to log ('scrobble') your Spotify listening history to last.fm. from where you can then download your data. I thought it would be interesting to verify my Spotify stats, and see if I could discover any other interesting insights."
   ]
  },
  {
   "cell_type": "markdown",
   "metadata": {
    "deletable": true,
    "editable": true
   },
   "source": [
    "## 1. Notebook set-up"
   ]
  },
  {
   "cell_type": "code",
   "execution_count": 1,
   "metadata": {
    "collapsed": false,
    "deletable": true,
    "editable": true
   },
   "outputs": [
    {
     "name": "stdout",
     "output_type": "stream",
     "text": [
      "Populating the interactive namespace from numpy and matplotlib\n"
     ]
    }
   ],
   "source": [
    "# Display plot results inline, not in a separate window\n",
    "%matplotlib inline\n",
    "%pylab inline\n",
    "\n",
    "# Set the size of all figures\n",
    "pylab.rcParams['figure.figsize'] = (14, 5)\n",
    "\n",
    "# Import pandas and a nicer plotting style\n",
    "import pandas as pd\n",
    "import matplotlib.pyplot as plt\n",
    "plt.style.use = 'default'"
   ]
  },
  {
   "cell_type": "raw",
   "metadata": {
    "deletable": true,
    "editable": true,
    "raw_mimetype": "text/x-python"
   },
   "source": [
    "# Encoding to handle non-ascii characters\n",
    "import sys\n",
    "reload(sys)\n",
    "sys.setdefaultencoding('utf-8')"
   ]
  },
  {
   "cell_type": "code",
   "execution_count": 2,
   "metadata": {
    "collapsed": false,
    "deletable": true,
    "editable": true
   },
   "outputs": [
    {
     "data": {
      "text/plain": [
       "'%.2f'"
      ]
     },
     "execution_count": 2,
     "metadata": {},
     "output_type": "execute_result"
    }
   ],
   "source": [
    "# Make the dataframes look a bit prettier\n",
    "from IPython.core.display import HTML\n",
    "css = open('style-table.css').read() + open('style-notebook.css').read()\n",
    "HTML('<style>{}</style>'.format(css))\n",
    "\n",
    "# Print output to 2 decimal places only\n",
    "#pd.options.display.float_format = '{:,.2f}'.format # Just works for this cell only\n",
    "\n",
    "# This sets behaviour for entire notebook\n",
    "%precision %.2f  "
   ]
  },
  {
   "cell_type": "markdown",
   "metadata": {
    "deletable": true,
    "editable": true
   },
   "source": [
    "## 2. Load and explore the data"
   ]
  },
  {
   "cell_type": "code",
   "execution_count": 3,
   "metadata": {
    "collapsed": false,
    "deletable": true,
    "editable": true
   },
   "outputs": [],
   "source": [
    "# Load in the data from the .csv file I downloaded\n",
    "column_names = ['Artist', 'Album', 'Name', 'd_t']\n",
    "\n",
    "# Choose the column names\n",
    "df = pd.read_csv('listening_history.csv', index_col=None, names = column_names, encoding='utf-8', header=None) \n",
    "\n",
    "# Convert the date time column (d_t) from a string to date time, so that I can search by date \n",
    "df['d_t'] = pd.to_datetime(df['d_t'])"
   ]
  },
  {
   "cell_type": "markdown",
   "metadata": {
    "deletable": true,
    "editable": true
   },
   "source": [
    "Some initial questions to answer to get a feel for the data: \n",
    "- How much data is there?\n",
    "- What type of data is present? \n",
    "- What are the maximum and minimum values? \n",
    "- ...etc. "
   ]
  },
  {
   "cell_type": "code",
   "execution_count": 4,
   "metadata": {
    "collapsed": false,
    "deletable": true,
    "editable": true
   },
   "outputs": [
    {
     "data": {
      "text/html": [
       "<div>\n",
       "<table border=\"1\" class=\"dataframe\">\n",
       "  <thead>\n",
       "    <tr style=\"text-align: right;\">\n",
       "      <th></th>\n",
       "      <th>Artist</th>\n",
       "      <th>Album</th>\n",
       "      <th>Name</th>\n",
       "      <th>d_t</th>\n",
       "    </tr>\n",
       "  </thead>\n",
       "  <tbody>\n",
       "    <tr>\n",
       "      <th>0</th>\n",
       "      <td>Bonobo</td>\n",
       "      <td>Animal Magic</td>\n",
       "      <td>Kota</td>\n",
       "      <td>NaT</td>\n",
       "    </tr>\n",
       "    <tr>\n",
       "      <th>1</th>\n",
       "      <td>Samaris</td>\n",
       "      <td>Samaris</td>\n",
       "      <td>Góða tungl</td>\n",
       "      <td>2016-12-15 09:44:00</td>\n",
       "    </tr>\n",
       "    <tr>\n",
       "      <th>2</th>\n",
       "      <td>The Staves</td>\n",
       "      <td>Dead &amp; Born &amp; Grown</td>\n",
       "      <td>Mexico</td>\n",
       "      <td>2016-12-15 09:40:00</td>\n",
       "    </tr>\n",
       "    <tr>\n",
       "      <th>3</th>\n",
       "      <td>Bonobo</td>\n",
       "      <td>Animal Magic</td>\n",
       "      <td>Kota</td>\n",
       "      <td>2016-12-15 09:34:00</td>\n",
       "    </tr>\n",
       "    <tr>\n",
       "      <th>4</th>\n",
       "      <td>The Gloaming</td>\n",
       "      <td>The Gloaming</td>\n",
       "      <td>The Sailor's Bonnet</td>\n",
       "      <td>2016-12-15 09:30:00</td>\n",
       "    </tr>\n",
       "    <tr>\n",
       "      <th>5</th>\n",
       "      <td>St. Germain</td>\n",
       "      <td>St Germain</td>\n",
       "      <td>Forget Me Not</td>\n",
       "      <td>2016-12-15 09:24:00</td>\n",
       "    </tr>\n",
       "    <tr>\n",
       "      <th>6</th>\n",
       "      <td>Yosi Horikawa</td>\n",
       "      <td>Wandering</td>\n",
       "      <td>Bubbles</td>\n",
       "      <td>2016-12-15 09:19:00</td>\n",
       "    </tr>\n",
       "    <tr>\n",
       "      <th>7</th>\n",
       "      <td>South</td>\n",
       "      <td>Music from The O.C. Mix 1</td>\n",
       "      <td>Paint the Silence</td>\n",
       "      <td>2016-12-15 09:13:00</td>\n",
       "    </tr>\n",
       "    <tr>\n",
       "      <th>8</th>\n",
       "      <td>The Staves</td>\n",
       "      <td>Sleeping In A Car</td>\n",
       "      <td>Sleeping In A Car</td>\n",
       "      <td>2016-12-15 09:09:00</td>\n",
       "    </tr>\n",
       "    <tr>\n",
       "      <th>9</th>\n",
       "      <td>Bonobo</td>\n",
       "      <td>Days to Come</td>\n",
       "      <td>Recurring</td>\n",
       "      <td>2016-12-15 09:04:00</td>\n",
       "    </tr>\n",
       "  </tbody>\n",
       "</table>\n",
       "</div>"
      ],
      "text/plain": [
       "          Artist                      Album                 Name  \\\n",
       "0         Bonobo               Animal Magic                 Kota   \n",
       "1        Samaris                    Samaris           Góða tungl   \n",
       "2     The Staves        Dead & Born & Grown               Mexico   \n",
       "3         Bonobo               Animal Magic                 Kota   \n",
       "4   The Gloaming               The Gloaming  The Sailor's Bonnet   \n",
       "5    St. Germain                 St Germain        Forget Me Not   \n",
       "6  Yosi Horikawa                  Wandering              Bubbles   \n",
       "7          South  Music from The O.C. Mix 1    Paint the Silence   \n",
       "8     The Staves          Sleeping In A Car    Sleeping In A Car   \n",
       "9         Bonobo               Days to Come            Recurring   \n",
       "\n",
       "                  d_t  \n",
       "0                 NaT  \n",
       "1 2016-12-15 09:44:00  \n",
       "2 2016-12-15 09:40:00  \n",
       "3 2016-12-15 09:34:00  \n",
       "4 2016-12-15 09:30:00  \n",
       "5 2016-12-15 09:24:00  \n",
       "6 2016-12-15 09:19:00  \n",
       "7 2016-12-15 09:13:00  \n",
       "8 2016-12-15 09:09:00  \n",
       "9 2016-12-15 09:04:00  "
      ]
     },
     "execution_count": 4,
     "metadata": {},
     "output_type": "execute_result"
    }
   ],
   "source": [
    "# View the top 10 rows\n",
    "df.head(10)"
   ]
  },
  {
   "cell_type": "code",
   "execution_count": 5,
   "metadata": {
    "collapsed": false,
    "deletable": true,
    "editable": true
   },
   "outputs": [
    {
     "data": {
      "text/plain": [
       "36454"
      ]
     },
     "execution_count": 5,
     "metadata": {},
     "output_type": "execute_result"
    }
   ],
   "source": [
    "#How many rows are there?\n",
    "len(df)"
   ]
  },
  {
   "cell_type": "code",
   "execution_count": 6,
   "metadata": {
    "collapsed": false,
    "deletable": true,
    "editable": true
   },
   "outputs": [
    {
     "data": {
      "text/plain": [
       "1983"
      ]
     },
     "execution_count": 6,
     "metadata": {},
     "output_type": "execute_result"
    }
   ],
   "source": [
    "# How many 2016 rows\n",
    "len(df[df.d_t.dt.year == 2016])"
   ]
  },
  {
   "cell_type": "code",
   "execution_count": 7,
   "metadata": {
    "collapsed": false,
    "deletable": true,
    "editable": true
   },
   "outputs": [
    {
     "name": "stdout",
     "output_type": "stream",
     "text": [
      "There are 0 rows with NaN values in 2016\n"
     ]
    }
   ],
   "source": [
    "# Are there any NaN values in 2016?\n",
    "Ans = len(df[(df.d_t.dt.year == 2016) & (df.isnull().any(axis=1))])\n",
    "print('There are', Ans, 'rows with NaN values in 2016')"
   ]
  },
  {
   "cell_type": "code",
   "execution_count": 8,
   "metadata": {
    "collapsed": false,
    "deletable": true,
    "editable": true
   },
   "outputs": [
    {
     "name": "stdout",
     "output_type": "stream",
     "text": [
      "Oldest record is: 1970-01-01 00:00:00\n",
      "Most recent record is: 2016-12-15 09:44:00\n"
     ]
    }
   ],
   "source": [
    "# Maximum and minimum dates\n",
    "print(\"Oldest record is:\",df.d_t.min())\n",
    "print(\"Most recent record is:\",df.d_t.max())"
   ]
  },
  {
   "cell_type": "markdown",
   "metadata": {
    "deletable": true,
    "editable": true
   },
   "source": [
    "Scrobbling to last.fm was turned off for the first half of 2016. "
   ]
  },
  {
   "cell_type": "code",
   "execution_count": 9,
   "metadata": {
    "collapsed": false,
    "deletable": true,
    "editable": true
   },
   "outputs": [
    {
     "name": "stdout",
     "output_type": "stream",
     "text": [
      "Scrobbling in 2016 began at: 2016-06-14 20:24:00\n"
     ]
    }
   ],
   "source": [
    "#print(\"Oldest record in 2016 is:\",df[df.d_t.dt.year == 2016].d_t.min())\n",
    "print('Scrobbling in 2016 began at:',df[df.d_t.dt.year == 2016].d_t.min())"
   ]
  },
  {
   "cell_type": "markdown",
   "metadata": {
    "deletable": true,
    "editable": true
   },
   "source": [
    "Therefore it will be important to remember that the data being analysed only represents about half of 2016."
   ]
  },
  {
   "cell_type": "markdown",
   "metadata": {
    "deletable": true,
    "editable": true
   },
   "source": [
    "## 3. Verify Spotify's statistics\n",
    "### 3a. Total Minutes"
   ]
  },
  {
   "cell_type": "markdown",
   "metadata": {
    "deletable": true,
    "editable": true
   },
   "source": [
    "According to Spotify, I listened to 2357 unique artists this year, and 3309 unique tracks. Total streaming time was 45202 minutes. They dont tell me how many non-unique plays I accumulated.\n",
    "\n",
    "Googling 'average song length' reveals that most pop songs last 3.5 minutes, but I think the songs I listen to are longer than that. \n",
    "\n",
    "Spotify's UI is understandably light on details, so initially I wondered how to calculate my average song length. First I just eyeballed the data ('scanning analytics..'). Then I realised I could sort the playlist by song length and then I could pick the Median, although I'd need to know how mang songs were in the playlist.\n",
    "\n",
    "Whilst searching for playlist properties like 'number of songs' I simply spotted  what I needed below the description; 101 songs, total play time of 8hrs, 29 minutes. \n",
    "\n",
    "Spotify tell me I've spent 45202 minuts streaming music and listened to 3309 unique tracks in 2016.\n",
    "\n",
    "Therefore:"
   ]
  },
  {
   "cell_type": "code",
   "execution_count": 10,
   "metadata": {
    "collapsed": false,
    "deletable": true,
    "editable": true
   },
   "outputs": [
    {
     "name": "stdout",
     "output_type": "stream",
     "text": [
      "Average song length: 302.38 seconds\n",
      "or 5 minutes, 2 seconds \n",
      "\n",
      "Days listening to Spotify in 2016: 31.46\n",
      "...Really? A whole month?!? \n",
      "\n",
      "Number of songs played in 2016: 8969.24\n",
      "On average, I listen to each track 2.71 times\n"
     ]
    }
   ],
   "source": [
    "# Average length of my 101 most listened to songs\n",
    "Average = round((8*60 + 29)*60/101,2)\n",
    "print(\"Average song length:\", Average, \"seconds\")\n",
    "print(\"or 5 minutes, 2 seconds \\n\")\n",
    "\n",
    "# Time spent listening to Spotify in days\n",
    "print(\"Days listening to Spotify in 2016:\", round(45303/60/24,2))\n",
    "print(\"...Really? A whole month?!? \\n\")\n",
    "\n",
    "# Time spent listening to Spotify in seconds\n",
    "seconds_used = 45202 * 60 \n",
    "\n",
    "# Number of songs played \n",
    "n_tracks = round(seconds_used / Average,2)\n",
    "print(\"Number of songs played in 2016:\",n_tracks)\n",
    "\n",
    "# Average number of plays per songs\n",
    "unique_tracks = 3309 # From summary email\n",
    "average_plays = round(n_tracks / unique_tracks,2)\n",
    "print(\"On average, I listen to each track\", average_plays, \"times\")"
   ]
  },
  {
   "cell_type": "markdown",
   "metadata": {
    "deletable": true,
    "editable": true
   },
   "source": [
    "This is really a surprisingly large amount of time spent listening. I cannot believe I spent 1/12 of 2016 streaming music from Spotify. I also thought I was quite a repetitive listener, so the average of 2.7 plays per song is surprisingly low. (For example, I have a short playlist with 'Recurring' by Bonobo in it 5 times.)"
   ]
  },
  {
   "cell_type": "markdown",
   "metadata": {
    "deletable": true,
    "editable": true
   },
   "source": [
    "### 3b. Unique artists\n",
    "According to Spotify, I listened to 2357 unique artists in 2016."
   ]
  },
  {
   "cell_type": "code",
   "execution_count": 11,
   "metadata": {
    "collapsed": false,
    "deletable": true,
    "editable": true
   },
   "outputs": [
    {
     "name": "stdout",
     "output_type": "stream",
     "text": [
      "Number of unique artists scrobbled in 2016: 510\n"
     ]
    }
   ],
   "source": [
    "Ans = len(df.Artist[df.d_t.dt.year == 2016].value_counts())\n",
    "print('Number of unique artists scrobbled in 2016:', Ans)"
   ]
  },
  {
   "cell_type": "markdown",
   "metadata": {
    "deletable": true,
    "editable": true
   },
   "source": [
    "If all songs were being scrobbled to last.fm and my listening behaviour remained the same thoughout the year, I would have expected the result to be about half of Spotify's result (because I only began scrobbling in June). The summary email reported 2357 unique artists in 2016. 510 is clearly much less than half of 2357.\n",
    "\n",
    "### 3c. Unique tracks"
   ]
  },
  {
   "cell_type": "code",
   "execution_count": 12,
   "metadata": {
    "collapsed": false,
    "deletable": true,
    "editable": true
   },
   "outputs": [
    {
     "name": "stdout",
     "output_type": "stream",
     "text": [
      "Number of unique tracks scrobbled in 2016: 1060\n"
     ]
    }
   ],
   "source": [
    "Ans = len(df.Name[df.d_t.dt.year == 2016].value_counts())\n",
    "print('Number of unique tracks scrobbled in 2016:',Ans)"
   ]
  },
  {
   "cell_type": "markdown",
   "metadata": {
    "deletable": true,
    "editable": true
   },
   "source": [
    "Spotify reported 3309 unique tracks played in 2016. My result of 1060 unique tracks in only the second half of 2016 is less than I would have expected, though the difference between expectation and result is not as great as for unique artists."
   ]
  },
  {
   "cell_type": "markdown",
   "metadata": {
    "deletable": true,
    "editable": true
   },
   "source": [
    "### 3d. My top tracks\n",
    "According to Spotify, my 3 most played tracks in 2016 are:\n",
    "1. Lights Out Words Gone \n",
    "2. Shuffle\n",
    "3. Luna\n",
    "  \n",
    "...all by Bombay Bicyle Club"
   ]
  },
  {
   "cell_type": "code",
   "execution_count": 13,
   "metadata": {
    "collapsed": false,
    "deletable": true,
    "editable": true
   },
   "outputs": [
    {
     "data": {
      "text/plain": [
       "Miserere                 14\n",
       "Shuffle                  14\n",
       "Lights Out Words Gone    12\n",
       "The Pilgrim’s Song       12\n",
       "Always Like This         12\n",
       "Luna                     11\n",
       "The Hare                 11\n",
       "You Already Know         11\n",
       "Koop Island Blues        10\n",
       "The Sailor's Bonnet      10\n",
       "Name: Name, dtype: int64"
      ]
     },
     "execution_count": 13,
     "metadata": {},
     "output_type": "execute_result"
    }
   ],
   "source": [
    "# Which tracks did I listen to the most in 2016?\n",
    "df.Name[df.d_t.dt.year == 2016].value_counts().head(10)"
   ]
  },
  {
   "cell_type": "markdown",
   "metadata": {
    "deletable": true,
    "editable": true
   },
   "source": [
    "This shows that whilst the 'top tracks' are some of my most listened to tracks, Spotify either uses a different method to calculate plays, or 'top' is not synonymous to 'most frequent'. \n",
    "\n",
    "When using data from June onwards, my 'top tracks' are only my joint 1st, 3rd and 6th most frequent plays."
   ]
  },
  {
   "cell_type": "markdown",
   "metadata": {
    "deletable": true,
    "editable": true
   },
   "source": [
    "### 3e. Top Artists\n",
    "Results from Spotify:\n",
    "1. Bonobo \n",
    "2. Bombay Bicyle Club\n",
    "3. The Staves\n",
    "4. Thievery Corporation\n",
    "5. Jack Johnson"
   ]
  },
  {
   "cell_type": "code",
   "execution_count": 14,
   "metadata": {
    "collapsed": false,
    "deletable": true,
    "editable": true
   },
   "outputs": [
    {
     "data": {
      "text/plain": [
       "The Staves                          170\n",
       "Bonobo                              161\n",
       "The Gloaming                        132\n",
       "Koop                                107\n",
       "Bombay Bicycle Club                 105\n",
       "Giovanni Pierluigi da Palestrina     70\n",
       "Jimi Hendrix                         48\n",
       "Jack Johnson                         44\n",
       "Gregorio Allegri                     43\n",
       "Broken Social Scene                  33\n",
       "Name: Artist, dtype: int64"
      ]
     },
     "execution_count": 14,
     "metadata": {},
     "output_type": "execute_result"
    }
   ],
   "source": [
    "df.Artist[df.d_t.dt.year == 2016].value_counts().head(10)"
   ]
  },
  {
   "cell_type": "markdown",
   "metadata": {
    "deletable": true,
    "editable": true
   },
   "source": [
    "My results are different to Spotify's, but not by much. \n",
    "\n",
    "\n",
    " Artist              | Spotify's results| My result \n",
    " ------------------- |:----------------:| ---------:\n",
    " Bonobo    | 1 | 2\n",
    " Bombay Bicycle Club | 2 | 5\n",
    " The Staves | 3 | 1\n",
    " Thievery Corporation | 4 | -\n",
    " Jack Johnson | 5 | 8\n",
    "\n",
    "Apart from Thievery Corporation being conspicuously absent from my own scrobbled data, all other differences could reasonably be explained by listening trends being different from Jan - June than July - Dec.\n",
    "\n",
    "The results show that I prefer listening to Bonobo over Bombay Bicycle Club, but that my 3 most played songs are all by Bombay Bicyle Club. This shows that there are more songs by Bonobo that I enjoy listening to, and that I have more polarised opinions about songs by Bombay Bicyle Club. \n",
    "\n",
    "### 3f. Favourite day to listen\n",
    "According to Spotify, I stream more music on Saturday than any other day.\n"
   ]
  },
  {
   "cell_type": "code",
   "execution_count": 15,
   "metadata": {
    "collapsed": false,
    "deletable": true,
    "editable": true
   },
   "outputs": [
    {
     "data": {
      "text/plain": [
       "<matplotlib.axes._subplots.AxesSubplot at 0x111243c88>"
      ]
     },
     "execution_count": 15,
     "metadata": {},
     "output_type": "execute_result"
    },
    {
     "data": {
      "image/png": "[encoded data removed]",
      "text/plain": [
       "<matplotlib.figure.Figure at 0x111243358>"
      ]
     },
     "metadata": {},
     "output_type": "display_data"
    }
   ],
   "source": [
    "# Plot how many songs wer played on each day of the week in the second half of 2016\n",
    "df[df.d_t.dt.year == 2016].Name.groupby(df.d_t.dt.dayofweek).count().plot(kind=\"bar\")"
   ]
  },
  {
   "cell_type": "markdown",
   "metadata": {
    "deletable": true,
    "editable": true
   },
   "source": [
    "Monday=0 and Sunday=6. \n",
    "\n",
    "This result shows that I stream more music on a Sunday than any other day. This is a different result to Spotify's report. \n",
    "\n",
    "The small difference could be explained (again) by my data set only relating to the second half of 2016. From January to June I listened to more music on a Saturday than a Sunday - probably when I was playing Starcraft. This hobby unfortunately was put on ice and had to come second to revision for exams in July and November. \n",
    "\n",
    "### 4. Time of day\n",
    "I thought it would be interesting to also see how much music I listen to at different times. I expect my listening habits to be different during the week compared to weekends, so I split the data by day and then summed the songs played whilst grouping them by hour.\n",
    "\n",
    "The figures below show an unexpected dip around 3pm at weekends, and consistent streaming through the day whilst at the office during the week. No matter which day of the week, it appears I always listen to music in the evenings. "
   ]
  },
  {
   "cell_type": "code",
   "execution_count": 16,
   "metadata": {
    "collapsed": false,
    "deletable": true,
    "editable": true
   },
   "outputs": [
    {
     "data": {
      "text/plain": [
       "<matplotlib.axes._subplots.AxesSubplot at 0x110493dd8>"
      ]
     },
     "execution_count": 16,
     "metadata": {},
     "output_type": "execute_result"
    },
    {
     "data": {
      "image/png": "[encoded data removed]",
      "text/plain": [
       "<matplotlib.figure.Figure at 0x11048f198>"
      ]
     },
     "metadata": {},
     "output_type": "display_data"
    }
   ],
   "source": [
    "# Count number of songs played during each hour at the weekends \n",
    "df[(df.d_t.dt.year == 2016) & (df.d_t.dt.dayofweek > 4)].Name.groupby(df.d_t.dt.hour).count().plot(kind=\"bar\")"
   ]
  },
  {
   "cell_type": "code",
   "execution_count": 17,
   "metadata": {
    "collapsed": false,
    "deletable": true,
    "editable": true
   },
   "outputs": [
    {
     "data": {
      "text/plain": [
       "<matplotlib.axes._subplots.AxesSubplot at 0x11048fa58>"
      ]
     },
     "execution_count": 17,
     "metadata": {},
     "output_type": "execute_result"
    },
    {
     "data": {
      "image/png": "[encoded data removed]",
      "text/plain": [
       "<matplotlib.figure.Figure at 0x1102da240>"
      ]
     },
     "metadata": {},
     "output_type": "display_data"
    }
   ],
   "source": [
    "# Count number of songs played during each hour during the week\n",
    "df[(df.d_t.dt.year == 2016) & (df.d_t.dt.dayofweek < 5)].Name.groupby(df.d_t.dt.hour).count().plot(kind=\"bar\")"
   ]
  },
  {
   "cell_type": "markdown",
   "metadata": {
    "deletable": true,
    "editable": true
   },
   "source": [
    "### 5. Conclusions\n",
    "Most of the attempts to verify Spotfiy's statistics fall short because my data only covers the second half of 2016. This shows the requirement of good quality inputs in order to achieve good quality results.\n",
    "\n",
    "Having said that, it is clear that I listen to Spotify far more than I thought I did. The observation that I like many of Bonobo's tracks but have more polarised views about Bombay Bicycle Club's songs is novel. Most of all, I think I'm getting great value!\n",
    "\n",
    "The chart below is number of songs played each day from 14 June 2016 to 15 December 2016. \n",
    "\n",
    "My top 101 songs of 2016 can be played at:\n",
    "https://open.spotify.com/user/spotify/playlist/37i9dQZF1CyJD4o58dMxry"
   ]
  },
  {
   "cell_type": "code",
   "execution_count": 18,
   "metadata": {
    "collapsed": false,
    "deletable": true,
    "editable": true
   },
   "outputs": [
    {
     "data": {
      "image/png": "[encoded data removed]",
      "text/plain": [
       "<matplotlib.figure.Figure at 0x11066a7f0>"
      ]
     },
     "metadata": {},
     "output_type": "display_data"
    }
   ],
   "source": [
    "import warnings\n",
    "warnings.filterwarnings('ignore')\n",
    "\n",
    "figure = df[df.d_t.dt.year == 2016].Name.groupby(df.d_t.dt.date).count().plot(kind=\"bar\")\n",
    "foo = figure.xaxis.get_ticklocs()\n",
    "\n",
    "n = 3\n",
    "\n",
    "ticks = figure.xaxis.get_ticklocs()\n",
    "ticklabels = [l.get_text() for l in figure.xaxis.get_ticklabels()]\n",
    "figure.xaxis.set_ticks(ticks[::n])\n",
    "figure.xaxis.set_ticklabels(ticklabels[::n])\n",
    "\n",
    "figure.figure.show()"
   ]
  }
 ],
 "metadata": {
  "celltoolbar": "Raw Cell Format",
  "kernelspec": {
   "display_name": "Python 3",
   "language": "python",
   "name": "python3"
  },
  "language_info": {
   "codemirror_mode": {
    "name": "ipython",
    "version": 3
   },
   "file_extension": ".py",
   "mimetype": "text/x-python",
   "name": "python",
   "nbconvert_exporter": "python",
   "pygments_lexer": "ipython3",
   "version": "3.6.0"
  }
 },
 "nbformat": 4,
 "nbformat_minor": 0
}
