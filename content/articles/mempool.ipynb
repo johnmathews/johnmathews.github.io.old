{
 "cells": [
  {
   "cell_type": "code",
   "execution_count": 19,
   "metadata": {
    "collapsed": false,
    "deletable": true,
    "editable": true,
    "scrolled": false
   },
   "outputs": [
    {
     "data": {
      "text/html": [
       "<script>\n",
       "code_show=false; \n",
       "function code_toggle() {\n",
       " if (code_show){\n",
       " $('div.input').show();\n",
       " } else {\n",
       " $('div.input').hide();\n",
       " }\n",
       " code_show =! code_show\n",
       "} \n",
       "$( document ).ready(code_toggle);\n",
       "</script>\n",
       "\n",
       "<font> The Python code is hidden by default, if you'd like to see it, click <a href=\"javascript:code_toggle()\">here</a>.</font>\n"
      ],
      "text/plain": [
       "<IPython.core.display.HTML object>"
      ]
     },
     "execution_count": 19,
     "metadata": {},
     "output_type": "execute_result"
    }
   ],
   "source": [
    "from IPython.display import HTML\n",
    "HTML('''<script>\n",
    "code_show=false; \n",
    "function code_toggle() {\n",
    " if (code_show){\n",
    " $('div.input').show();\n",
    " } else {\n",
    " $('div.input').hide();\n",
    " }\n",
    " code_show =! code_show\n",
    "} \n",
    "$( document ).ready(code_toggle);\n",
    "</script>\n",
    "\n",
    "<font> The Python code is hidden by default, if you'd like to see it, click <a href=\"javascript:code_toggle()\">here</a>.</font>\n",
    "''')"
   ]
  },
  {
   "cell_type": "raw",
   "metadata": {
    "deletable": true,
    "editable": true
   },
   "source": [
    "<script> \n",
    "window.onload = function() {\n",
    "  code_toggle();\n",
    "};\n",
    "</script>"
   ]
  },
  {
   "cell_type": "code",
   "execution_count": 1,
   "metadata": {
    "collapsed": false,
    "deletable": true,
    "editable": true,
    "scrolled": false
   },
   "outputs": [],
   "source": [
    "## Steup - libraries\n",
    "import quandl\n",
    "import matplotlib.pyplot as plt\n",
    "import pandas as pd\n",
    "import datetime as dt\n",
    "import numpy as np\n",
    "import credentials # keep my quandl and plot.ly api keys private\n",
    "\n",
    "import plotly.plotly as py\n",
    "import plotly.graph_objs as go\n",
    "\n",
    "#import cufflinks as cf\n",
    "#cf.set_config_file(world_readable=True,offline=False)"
   ]
  },
  {
   "cell_type": "code",
   "execution_count": 2,
   "metadata": {
    "collapsed": false,
    "deletable": true,
    "editable": true,
    "scrolled": false
   },
   "outputs": [],
   "source": [
    "## Setup - appearance\n",
    "# add a ; at the end to suppress function output (when plotting)\n",
    "# matplotlib.style.use('ggplot')\n",
    "\n",
    "# get rid of the annoying 'SettingWithCopy' warning\n",
    "pd.options.mode.chained_assignment = None # default='warn'\n",
    "\n",
    "# more than one print of an unassigned variable\n",
    "from IPython.core.interactiveshell import InteractiveShell;\n",
    "InteractiveShell.ast_node_interactivity = \"all\";\n",
    "\n",
    "# Display plot results inline, not in a separate window\n",
    "#%matplotlib inline\n",
    "\n",
    "color1 = '#137a28' # dark green\n",
    "color2 = '#b3d1b9' # light transparent green"
   ]
  },
  {
   "cell_type": "markdown",
   "metadata": {
    "deletable": true,
    "editable": true
   },
   "source": [
    "## Number of transactions awaiting confirmation (Mempool size)"
   ]
  },
  {
   "cell_type": "code",
   "execution_count": 3,
   "metadata": {
    "collapsed": false,
    "deletable": true,
    "editable": true,
    "scrolled": false
   },
   "outputs": [],
   "source": [
    "# import mempool data downloaded from https://blockchain.info/charts/mempool-count?timespan=all\n",
    "mempool = pd.read_csv(\n",
    "    'mempool-count.csv', \n",
    "    header=None, \n",
    "    names=['DateTime','size'], \n",
    "    parse_dates=[0], \n",
    "    infer_datetime_format=True\n",
    "    )\n",
    "\n",
    "# split the datetime to date and time\n",
    "temp = pd.DatetimeIndex(mempool['DateTime'])\n",
    "mempool['Date'] = temp.date\n",
    "mempool['Time'] = temp.time\n",
    "del mempool['DateTime']\n",
    "\n",
    "# reorder the columns\n",
    "cols = ['Date','Time','size']\n",
    "mempool = mempool[cols]\n",
    "mempool.set_index('Date', inplace=True)"
   ]
  },
  {
   "cell_type": "code",
   "execution_count": 4,
   "metadata": {
    "collapsed": false,
    "deletable": true,
    "editable": true,
    "scrolled": false
   },
   "outputs": [],
   "source": [
    "# there are 3 values per day. get average mempool size for each day\n",
    "mempool = mempool.groupby([mempool.index.get_level_values('Date')]).mean()"
   ]
  },
  {
   "cell_type": "code",
   "execution_count": 5,
   "metadata": {
    "collapsed": false,
    "deletable": true,
    "editable": true,
    "scrolled": false
   },
   "outputs": [],
   "source": [
    "# mempool.loc[mempool['size'].idxmax()]"
   ]
  },
  {
   "cell_type": "markdown",
   "metadata": {
    "deletable": true,
    "editable": true
   },
   "source": [
    "During April and May 2017 the number of transactions waiting to be confirmed on the Bitcoin blockchain increase to an all time maximum of 175,978 on May 18th, compared to an average value in 2016 of less than 10,000.  \n",
    "\n",
    "The number of unconfirmed transactions fell as quickly as it rose and by mid July was generally below 10,000 again. \n",
    "\n",
    "The figure below shows the erratic changes in the number of unconfirmed transactions. **This post seeks to consider what may have caused it.**"
   ]
  },
  {
   "cell_type": "code",
   "execution_count": 6,
   "metadata": {
    "collapsed": false,
    "deletable": true,
    "editable": true,
    "scrolled": false
   },
   "outputs": [
    {
     "data": {
      "text/html": [
       "<iframe id=\"igraph\" scrolling=\"no\" style=\"border:none;\" seamless=\"seamless\" src=\"https://plot.ly/~mthwsjc/35.embed\" height=\"525px\" width=\"100%\"></iframe>"
      ],
      "text/plain": [
       "<plotly.tools.PlotlyDisplay object>"
      ]
     },
     "execution_count": 6,
     "metadata": {},
     "output_type": "execute_result"
    }
   ],
   "source": [
    "mempool['size_av']=mempool['size'].rolling(window=7).mean();\n",
    "\n",
    "series1 = go.Scatter( \n",
    "    x=mempool.index.get_level_values('Date'), \n",
    "    y=mempool['size'], \n",
    "    name='Daily average',\n",
    "    line = dict(\n",
    "        color = (color2),\n",
    "        width = 2,))\n",
    "\n",
    "series2 = go.Scatter( \n",
    "    x=mempool.index.get_level_values('Date'), \n",
    "    y=mempool['size_av'], \n",
    "    name='Weekly average',\n",
    "    line = dict(\n",
    "        color = (color1),\n",
    "        width = 3,))\n",
    "\n",
    "data = [series1, series2]\n",
    "\n",
    "layout = go.Layout(\n",
    "    title='Unconfirmed transactions',\n",
    "    yaxis=dict(title='Number of transactions'),\n",
    "    legend=dict(orientation=\"h\", yanchor='top', y=1, xanchor='center', x=0.5)\n",
    "    )\n",
    "\n",
    "fig = go.Figure(data=data, layout=layout)\n",
    "py.iplot(fig, filename='bitcoin_mempool')"
   ]
  },
  {
   "cell_type": "markdown",
   "metadata": {
    "deletable": true,
    "editable": true
   },
   "source": [
    "## Median time taken for transactions to be accepted into a block (Minutes)\n",
    "\n",
    "It is expected that the average time taken to confirm a transaction would increase proportionally to the size of the confirmation pool. "
   ]
  },
  {
   "cell_type": "code",
   "execution_count": 7,
   "metadata": {
    "collapsed": false,
    "deletable": true,
    "editable": true,
    "scrolled": false
   },
   "outputs": [],
   "source": [
    "# The Daily Median time taken for transactions to be accepted into a block, presumably in minutes\n",
    "ATRCT = quandl.get(\"BCHAIN/ATRCT\")\n",
    "ATRCT = ATRCT.loc['2016-04-24':]"
   ]
  },
  {
   "cell_type": "code",
   "execution_count": 8,
   "metadata": {
    "collapsed": false,
    "deletable": true,
    "editable": true,
    "scrolled": false
   },
   "outputs": [
    {
     "data": {
      "text/html": [
       "<iframe id=\"igraph\" scrolling=\"no\" style=\"border:none;\" seamless=\"seamless\" src=\"https://plot.ly/~mthwsjc/37.embed\" height=\"525px\" width=\"100%\"></iframe>"
      ],
      "text/plain": [
       "<plotly.tools.PlotlyDisplay object>"
      ]
     },
     "execution_count": 8,
     "metadata": {},
     "output_type": "execute_result"
    }
   ],
   "source": [
    "ATRCT['artct_av']=ATRCT['Value'].rolling(window=7).mean();\n",
    "\n",
    "series1 = go.Scatter( \n",
    "    x=mempool.index.get_level_values('Date'), \n",
    "    y=ATRCT['Value'], \n",
    "    name='Daily median time to acceptance',\n",
    "    line = dict(\n",
    "        color = (color2),\n",
    "        width = 2))\n",
    "\n",
    "series2 = go.Scatter( \n",
    "    x=mempool.index.get_level_values('Date'), \n",
    "    y=ATRCT['artct_av'], \n",
    "    name='Moving weekly average',\n",
    "    line = dict(\n",
    "        color = (color1),\n",
    "        width = 3))\n",
    "\n",
    "data = [series1, series2]\n",
    "\n",
    "layout = go.Layout(\n",
    "    title='Daily median time taken for transactions to be accepted into a block',\n",
    "    yaxis=dict(title='Time (minutes)'),\n",
    "    legend=dict(orientation=\"h\", yanchor='top', y=1.1, xanchor='center', x=0.5)\n",
    "    )\n",
    "\n",
    "fig = go.Figure(data=data, layout=layout)\n",
    "py.iplot(fig, filename='btc_acceptance_time')"
   ]
  },
  {
   "cell_type": "code",
   "execution_count": 9,
   "metadata": {
    "collapsed": false,
    "deletable": true,
    "editable": true
   },
   "outputs": [
    {
     "data": {
      "text/plain": [
       "0.37360977521220956"
      ]
     },
     "execution_count": 9,
     "metadata": {},
     "output_type": "execute_result"
    }
   ],
   "source": [
    "ATRCT['Value'].corr(mempool['size'], method='pearson', min_periods=None)"
   ]
  },
  {
   "cell_type": "markdown",
   "metadata": {
    "deletable": true,
    "editable": true
   },
   "source": [
    "The median transaction time does not increase noticably when the pool of unconfirmed transactions increases, in fact the two features have only a weak Pearson correlation of 0.37. This is surprising as intuition would suggest that the larger the pool of transactions waiting to be confirmed, the longer it would take to confirm a transaction.\n",
    "\n",
    "However it is worth noting that we are looking at the median average, which would negate the effect of outlier transactions which took a very long time to be accepted. Perhaps the average size of a transaction decreased as the number of unconfirmed transactions increased.. nope.\n",
    "\n",
    "Perhaps and the reason for the lack of correlation is unclear. "
   ]
  },
  {
   "cell_type": "markdown",
   "metadata": {
    "deletable": true,
    "editable": true
   },
   "source": [
    "## Average block size (Daily average, MB) \n",
    "\n",
    "Each block in the Bitcoin network is limited (before 1 August 2017) to 1MB. As the Bitcoin network has grown and transaction volume has increased the blocksize limit became a key limitation to the transaction volume the network could support. Was the mempool size increase due to the blocks getting \"filled up\" to their maximum 1MB size?"
   ]
  },
  {
   "cell_type": "code",
   "execution_count": 10,
   "metadata": {
    "collapsed": true,
    "deletable": true,
    "editable": true,
    "scrolled": false
   },
   "outputs": [],
   "source": [
    "# The Average block size in MB\n",
    "AVBLS = quandl.get(\"BCHAIN/AVBLS\")"
   ]
  },
  {
   "cell_type": "code",
   "execution_count": 11,
   "metadata": {
    "collapsed": false,
    "deletable": true,
    "editable": true,
    "scrolled": false
   },
   "outputs": [],
   "source": [
    "av_bs = AVBLS.loc['2016-04-24':]\n",
    "av_bs['Size']=av_bs['Value']\n",
    "del av_bs['Value']"
   ]
  },
  {
   "cell_type": "code",
   "execution_count": 12,
   "metadata": {
    "collapsed": false,
    "deletable": true,
    "editable": true,
    "scrolled": false
   },
   "outputs": [
    {
     "data": {
      "text/html": [
       "<iframe id=\"igraph\" scrolling=\"no\" style=\"border:none;\" seamless=\"seamless\" src=\"https://plot.ly/~mthwsjc/39.embed\" height=\"525px\" width=\"100%\"></iframe>"
      ],
      "text/plain": [
       "<plotly.tools.PlotlyDisplay object>"
      ]
     },
     "execution_count": 12,
     "metadata": {},
     "output_type": "execute_result"
    }
   ],
   "source": [
    "av_bs['Size_av']=av_bs['Size'].rolling(window=7).mean();\n",
    "\n",
    "series1 = go.Scatter( \n",
    "    x=mempool.index.get_level_values('Date'), \n",
    "    y=av_bs['Size'], \n",
    "    name='Average block size',\n",
    "    line = dict(\n",
    "        color = (color2),\n",
    "        width = 2))\n",
    "\n",
    "series2 = go.Scatter( \n",
    "    x=mempool.index.get_level_values('Date'), \n",
    "    y=av_bs['Size_av'], \n",
    "    name='Moving weekly average',\n",
    "    line = dict(\n",
    "        color = (color1),\n",
    "        width = 3))\n",
    "\n",
    "data = [series1, series2]\n",
    "\n",
    "layout = go.Layout(\n",
    "    title='Average block size',\n",
    "    yaxis=dict(title='Block size (MB)'),\n",
    "    legend=dict(orientation=\"h\", yanchor='top', y=1.1, xanchor='center', x=0.5)\n",
    "    )\n",
    "\n",
    "fig = go.Figure(data=data, layout=layout)\n",
    "py.iplot(fig, filename='btc_block_size')"
   ]
  },
  {
   "cell_type": "markdown",
   "metadata": {
    "deletable": true,
    "editable": true
   },
   "source": [
    "From March through June the blocksizes seem to have frequently hit their maximum possible size, suggesting that the bitcoin network was processing the maximum amount of data possible. \n",
    "\n",
    "The average block size began a sharp decresae on July 2nd, and at the same time the median transaction confirmation time also began a quick reduction. By July 2nd the number of transactions has already completed its reduction back to \"normal\" levels. \n",
    "\n",
    "Not all transactions are the same size, as a transaction can have any number of outputs (and inputs?), and a transaction with many outputs would be be a larger amount of data than a transaction with only 1 output. Lets confirm if the number of transactions increased over the same period:"
   ]
  },
  {
   "cell_type": "markdown",
   "metadata": {
    "deletable": true,
    "editable": true
   },
   "source": [
    "## Average number of transactions per (1MB) block"
   ]
  },
  {
   "cell_type": "code",
   "execution_count": 13,
   "metadata": {
    "collapsed": false,
    "deletable": true,
    "editable": true,
    "scrolled": false
   },
   "outputs": [],
   "source": [
    "# The average number of transactions per block. each day?\n",
    "NTRBL = quandl.get(\"BCHAIN/NTRBL\")\n",
    "NTRBL = NTRBL.loc['2016-04-24':]"
   ]
  },
  {
   "cell_type": "code",
   "execution_count": 14,
   "metadata": {
    "collapsed": false,
    "deletable": true,
    "editable": true,
    "scrolled": false
   },
   "outputs": [
    {
     "data": {
      "text/html": [
       "<iframe id=\"igraph\" scrolling=\"no\" style=\"border:none;\" seamless=\"seamless\" src=\"https://plot.ly/~mthwsjc/41.embed\" height=\"525px\" width=\"100%\"></iframe>"
      ],
      "text/plain": [
       "<plotly.tools.PlotlyDisplay object>"
      ]
     },
     "execution_count": 14,
     "metadata": {},
     "output_type": "execute_result"
    }
   ],
   "source": [
    "NTRBL['Size_av']=NTRBL['Value'].rolling(window=7).mean();\n",
    "\n",
    "series1 = go.Scatter( \n",
    "    x=mempool.index.get_level_values('Date'), \n",
    "    y=NTRBL['Value'], \n",
    "    name='Average transactions per block',\n",
    "    line = dict(\n",
    "        color = (color2),\n",
    "        width = 2))\n",
    "\n",
    "series2 = go.Scatter( \n",
    "    x=mempool.index.get_level_values('Date'), \n",
    "    y=NTRBL['Size_av'], \n",
    "    name='Moving weekly average',\n",
    "    line = dict(\n",
    "        color = (color1),\n",
    "        width = 3))\n",
    "\n",
    "data = [series1, series2]\n",
    "\n",
    "layout = go.Layout(\n",
    "    title='Average number of transactions per block',\n",
    "    yaxis=dict(title='Number of transactions'),\n",
    "    legend=dict(orientation=\"h\", yanchor='top', y=1.1, xanchor='center', x=0.5)\n",
    "    )\n",
    "\n",
    "fig = go.Figure(data=data, layout=layout)\n",
    "py.iplot(fig, filename='btc_tnsx_per_block')"
   ]
  },
  {
   "cell_type": "markdown",
   "metadata": {
    "deletable": true,
    "editable": true
   },
   "source": [
    "The average number of transactions per block hit a peak at the end of May 2017, and fell sharply at the beginning of June and then again at the beginning of July. \n",
    "\n",
    "In June the blocksizes remained more or less as large as possible, but in July the average blocksize had reduced to significantly below its maximum. \n",
    "\n",
    "The difference in average blocksizes at these two times suggests that at the beginning of June the number of transactions reduced because the average size of transactions had increased, but in July the number of transactions per block reduced because fewer transactions were being created.  \n",
    "\n",
    "Perhaps bitcoin exchanges and other organsiations with high transaction volumes had changed their behaviour and begun posting larger transactions with many outputs, compared to previously posting more transactions each with fewer outputs. "
   ]
  },
  {
   "cell_type": "markdown",
   "metadata": {
    "deletable": true,
    "editable": true
   },
   "source": [
    "## Total value (BTC) of transactions fees earned by miners per day\n",
    "\n",
    "Transaction fees are charged to users sending Bitcoin by users operating a node on the network. Node operators (\"Bitcoin miners\") collect unconfirmed transactions, confirm their validity and perform the proof-of-work requirements to build these transactions into a new block of the blockchain. \n",
    "\n",
    "In order to provide an incentive for node operators to process and confirm new transactions, and to compensate them for the equipment and energy costs required to do so, a transaction fee is charged to confirm each transaction. The size of the fee needs to be proportional to the size (in bytes) of the transaction, otherwise miners would prefer smaller sized transactions as they could fit more into each block and thus make a higher profit from mining the block. \n",
    "\n",
    "A user making a transaction can offer to pay a higher or lower transaction fee depending on how quickly they want the transaction processed/confirmed. This is because miners (who collect unconfirmed transactions to process into the next block) will choose transactions with higher fees over those with lower fees. \n",
    "\n",
    "Therefore it is expected that as the backlog of unprocessed transactions increases, the fees paid to ensure a transaction gets processed will also increase. This is shown in the figure below:\n",
    "\n",
    "=== we could also look at time to confirm a transaction as we would expect that to increase with mempool size ==="
   ]
  },
  {
   "cell_type": "code",
   "execution_count": 15,
   "metadata": {
    "collapsed": false,
    "deletable": true,
    "editable": true,
    "scrolled": false
   },
   "outputs": [],
   "source": [
    "# transaction fees - the total BTC value of transaction fees miners earn per day.\n",
    "TRFEE = quandl.get(\"BCHAIN/TRFEE\")"
   ]
  },
  {
   "cell_type": "code",
   "execution_count": 16,
   "metadata": {
    "collapsed": false,
    "deletable": true,
    "editable": true,
    "scrolled": false
   },
   "outputs": [],
   "source": [
    "tn_fee = TRFEE.loc['2016-04-24':]\n",
    "tn_fee['Fee']=tn_fee['Value']\n",
    "del tn_fee['Value']"
   ]
  },
  {
   "cell_type": "code",
   "execution_count": 17,
   "metadata": {
    "collapsed": false,
    "deletable": true,
    "editable": true,
    "scrolled": false
   },
   "outputs": [
    {
     "data": {
      "text/html": [
       "<iframe id=\"igraph\" scrolling=\"no\" style=\"border:none;\" seamless=\"seamless\" src=\"https://plot.ly/~mthwsjc/43.embed\" height=\"525px\" width=\"100%\"></iframe>"
      ],
      "text/plain": [
       "<plotly.tools.PlotlyDisplay object>"
      ]
     },
     "execution_count": 17,
     "metadata": {},
     "output_type": "execute_result"
    }
   ],
   "source": [
    "tn_fee['Fee_av']=tn_fee['Fee'].rolling(window=1).mean();\n",
    "\n",
    "trace1 = go.Scatter( \n",
    "    x=mempool.index.get_level_values('Date'), \n",
    "    y=mempool['size'], \n",
    "    name='Mempool' ) # used later\n",
    "\n",
    "trace2 = go.Scatter( \n",
    "    x=tn_fee.index.get_level_values('Date'), \n",
    "    y=tn_fee['Fee_av'], \n",
    "    name='tn_fee',\n",
    "    yaxis='y2' )\n",
    "\n",
    "data2 = [trace1, trace2]\n",
    "\n",
    "layout = go.Layout(\n",
    "    title='Double Y Axis Example',\n",
    "    yaxis=dict(\n",
    "        title='yaxis title'\n",
    "        ),\n",
    "    yaxis2=dict(\n",
    "        title='yaxis2 title',\n",
    "        titlefont=dict(\n",
    "            color='rgb(148, 103, 189)'\n",
    "        ),\n",
    "    tickfont=dict(\n",
    "            color='rgb(148, 103, 189)'\n",
    "        ),\n",
    "    overlaying='y',\n",
    "    side='right'\n",
    "    )\n",
    ")\n",
    "fig = go.Figure(data=data2, layout=layout)\n",
    "py.iplot(fig, filename='multiple-axes-double')\n",
    "\n",
    "#py.iplot(data, filename='btc_AVBLS_av')\n"
   ]
  },
  {
   "cell_type": "code",
   "execution_count": 18,
   "metadata": {
    "collapsed": false,
    "deletable": true,
    "editable": true
   },
   "outputs": [
    {
     "data": {
      "text/html": [
       "<div>\n",
       "<style>\n",
       "    .dataframe thead tr:only-child th {\n",
       "        text-align: right;\n",
       "    }\n",
       "\n",
       "    .dataframe thead th {\n",
       "        text-align: left;\n",
       "    }\n",
       "\n",
       "    .dataframe tbody tr th {\n",
       "        vertical-align: top;\n",
       "    }\n",
       "</style>\n",
       "<table border=\"1\" class=\"dataframe\">\n",
       "  <thead>\n",
       "    <tr style=\"text-align: right;\">\n",
       "      <th></th>\n",
       "      <th>unconf_tnsx</th>\n",
       "      <th>conf_time</th>\n",
       "      <th>block_size</th>\n",
       "      <th>tnsx_per_block</th>\n",
       "      <th>tn_fee</th>\n",
       "    </tr>\n",
       "  </thead>\n",
       "  <tbody>\n",
       "    <tr>\n",
       "      <th>unconf_tnsx</th>\n",
       "      <td>1.000000</td>\n",
       "      <td>0.373610</td>\n",
       "      <td>0.434051</td>\n",
       "      <td>0.485007</td>\n",
       "      <td>0.659499</td>\n",
       "    </tr>\n",
       "    <tr>\n",
       "      <th>conf_time</th>\n",
       "      <td>0.373610</td>\n",
       "      <td>1.000000</td>\n",
       "      <td>0.642878</td>\n",
       "      <td>0.623867</td>\n",
       "      <td>0.485486</td>\n",
       "    </tr>\n",
       "    <tr>\n",
       "      <th>block_size</th>\n",
       "      <td>0.434051</td>\n",
       "      <td>0.642878</td>\n",
       "      <td>1.000000</td>\n",
       "      <td>0.834880</td>\n",
       "      <td>0.624348</td>\n",
       "    </tr>\n",
       "    <tr>\n",
       "      <th>tnsx_per_block</th>\n",
       "      <td>0.485007</td>\n",
       "      <td>0.623867</td>\n",
       "      <td>0.834880</td>\n",
       "      <td>1.000000</td>\n",
       "      <td>0.494258</td>\n",
       "    </tr>\n",
       "    <tr>\n",
       "      <th>tn_fee</th>\n",
       "      <td>0.659499</td>\n",
       "      <td>0.485486</td>\n",
       "      <td>0.624348</td>\n",
       "      <td>0.494258</td>\n",
       "      <td>1.000000</td>\n",
       "    </tr>\n",
       "  </tbody>\n",
       "</table>\n",
       "</div>"
      ],
      "text/plain": [
       "                unconf_tnsx  conf_time  block_size  tnsx_per_block    tn_fee\n",
       "unconf_tnsx        1.000000   0.373610    0.434051        0.485007  0.659499\n",
       "conf_time          0.373610   1.000000    0.642878        0.623867  0.485486\n",
       "block_size         0.434051   0.642878    1.000000        0.834880  0.624348\n",
       "tnsx_per_block     0.485007   0.623867    0.834880        1.000000  0.494258\n",
       "tn_fee             0.659499   0.485486    0.624348        0.494258  1.000000"
      ]
     },
     "execution_count": 18,
     "metadata": {},
     "output_type": "execute_result"
    }
   ],
   "source": [
    "tseries = [mempool['size'],ATRCT['Value'],av_bs['Size'],NTRBL['Value'],tn_fee['Fee']]\n",
    "cols = ['unconf_tnsx','conf_time','block_size','tnsx_per_block','tn_fee']\n",
    "tbl = np.zeros((len(tseries), len(tseries))) \n",
    "\n",
    "for i in range(len(tseries)):\n",
    "    for j in range(len(tseries)):\n",
    "        tbl[i,j] = tseries[i].corr(tseries[j], method='pearson', min_periods=None)\n",
    "\n",
    "pd.DataFrame(data=tbl,    # values\n",
    "              index=cols,    # 1st column as index\n",
    "              columns=cols)  # 1st row as the column names\n",
    "\n"
   ]
  },
  {
   "cell_type": "markdown",
   "metadata": {
    "deletable": true,
    "editable": true
   },
   "source": [
    "This figure shows a strong correlation between transaction fees and the size of the mempool, as expected. We can see that changes in the size of fees on the bitcoin network lag behind changes in the mempool size by X days on average. \n",
    "\n",
    "This has quanitifed some of the effects of changes in the mempool size, but has not explained what caused the mempool to increase."
   ]
  },
  {
   "cell_type": "markdown",
   "metadata": {
    "deletable": true,
    "editable": true
   },
   "source": [
    "**number of transactions per day** must be proportional to **transactions per block**, as the number of blocks per day is fixed (right?)\n",
    "\n",
    "**number of transactions per block** increases consistently until may 2017 when it suddenly decreases - showing that **average transaction size** increased suddenly. the same effect is shown by the falling **number of unique btc addresses** and **number of transactions per day** - due to the same reasons. "
   ]
  },
  {
   "cell_type": "markdown",
   "metadata": {
    "deletable": true,
    "editable": true
   },
   "source": [
    "Proxy for **exchange activity**. (sending btc towards exchanges?) = **Number of transactions per day excluding popular addresses (exchanges)** - **number of transaction per day**\n"
   ]
  },
  {
   "cell_type": "markdown",
   "metadata": {
    "deletable": true,
    "editable": true
   },
   "source": [
    "**outputs to other addresses** not the same (or is it) as **all transactional outputs** maybe.....\n",
    "\n",
    "Estimated transaction volume (ignores senders “change”) - total output volume are not correlated. Why?"
   ]
  },
  {
   "cell_type": "markdown",
   "metadata": {
    "deletable": true,
    "editable": true
   },
   "source": [
    "how cheap is the bitcoin network for a user... "
   ]
  }
 ],
 "metadata": {
  "kernelspec": {
   "display_name": "Python 3",
   "language": "python",
   "name": "python3"
  },
  "language_info": {
   "codemirror_mode": {
    "name": "ipython",
    "version": 3
   },
   "file_extension": ".py",
   "mimetype": "text/x-python",
   "name": "python",
   "nbconvert_exporter": "python",
   "pygments_lexer": "ipython3",
   "version": "3.6.0"
  }
 },
 "nbformat": 4,
 "nbformat_minor": 2
}
