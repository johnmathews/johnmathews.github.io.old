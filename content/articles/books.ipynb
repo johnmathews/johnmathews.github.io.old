{
 "cells": [
  {
   "cell_type": "markdown",
   "metadata": {
    "deletable": true,
    "editable": true
   },
   "source": [
    "# Catalogue of books\n",
    "A friend of mine has collected books for many years and has recently begun to catalogue them. In this post I do some simple analysis of the catalogue and query an ISBN database to fill in some missing data. \n",
    "\n",
    "### Set-up and data preparation \n",
    "Set some settings and import some command libraries"
   ]
  },
  {
   "cell_type": "code",
   "execution_count": 1,
   "metadata": {
    "collapsed": false,
    "deletable": true,
    "editable": true
   },
   "outputs": [
    {
     "data": {
      "text/html": [
       "<script>\n",
       "code_show=true; \n",
       "function code_toggle() {\n",
       " if (code_show){\n",
       " $('div.input').hide();\n",
       " } else {\n",
       " $('div.input').show();\n",
       " }\n",
       " code_show = !code_show\n",
       "} \n",
       "$( document ).ready(code_toggle);\n",
       "</script>\n",
       "<font color=#33cc33><i>To toggle the visibility of the code blocks, click <a href=\"javascript:code_toggle()\">here</a>.</i></font>"
      ],
      "text/plain": [
       "<IPython.core.display.HTML object>"
      ]
     },
     "execution_count": 1,
     "metadata": {},
     "output_type": "execute_result"
    }
   ],
   "source": [
    "from IPython.display import HTML\n",
    "HTML('''<script>\n",
    "code_show=false; \n",
    "function code_toggle() {\n",
    " if (code_show){\n",
    " $('div.input').hide();\n",
    " } else {\n",
    " $('div.input').show();\n",
    " }\n",
    " code_show = !code_show\n",
    "} \n",
    "$( document ).ready(code_toggle);\n",
    "</script>\n",
    "<font color=#33cc33><i>To toggle the visibility of the code blocks, click <a href=\"javascript:code_toggle()\">here</a>.</i></font>''')"
   ]
  },
  {
   "cell_type": "code",
   "execution_count": 2,
   "metadata": {
    "collapsed": false,
    "deletable": true,
    "editable": true
   },
   "outputs": [
    {
     "name": "stdout",
     "output_type": "stream",
     "text": [
      "Populating the interactive namespace from numpy and matplotlib\n"
     ]
    }
   ],
   "source": [
    "# Display plot results inline, not in a separate window\n",
    "%matplotlib inline\n",
    "%pylab inline\n",
    "\n",
    "# Set the size of all figures\n",
    "pylab.rcParams['figure.figsize'] = (14, 5)\n",
    "\n",
    "import pandas as pd\n",
    "import re\n",
    "import bibtexparser\n",
    "\n",
    "import numpy as np\n",
    "import matplotlib.pyplot as plt"
   ]
  },
  {
   "cell_type": "markdown",
   "metadata": {
    "deletable": true,
    "editable": true
   },
   "source": [
    "Load the catalogue file:"
   ]
  },
  {
   "cell_type": "code",
   "execution_count": 3,
   "metadata": {
    "collapsed": false,
    "deletable": true,
    "editable": true
   },
   "outputs": [
    {
     "name": "stdout",
     "output_type": "stream",
     "text": [
      "There are 9187 rows in the catalogue\n"
     ]
    }
   ],
   "source": [
    "table = pd.read_excel('Library.xlsx')\n",
    "table = table[0:9188]\n",
    "df = table\n",
    "orig_rows = (df.shape[0])\n",
    "\n",
    "print(\"There are %d rows in the catalogue\" % (df.shape[0]) )"
   ]
  },
  {
   "cell_type": "markdown",
   "metadata": {
    "deletable": true,
    "editable": true
   },
   "source": [
    "### Data formatting and tidying:\n",
    "\n",
    "View the top 5 rows to see how the data is arranged and how many cells are complete."
   ]
  },
  {
   "cell_type": "code",
   "execution_count": 4,
   "metadata": {
    "collapsed": false,
    "deletable": true,
    "editable": true
   },
   "outputs": [
    {
     "data": {
      "text/html": [
       "<div>\n",
       "<table border=\"1\" class=\"dataframe\">\n",
       "  <thead>\n",
       "    <tr style=\"text-align: right;\">\n",
       "      <th></th>\n",
       "      <th>Location</th>\n",
       "      <th>Subject</th>\n",
       "      <th>Title</th>\n",
       "      <th>Author</th>\n",
       "      <th>Publisher</th>\n",
       "      <th>ISBN?</th>\n",
       "      <th>Shelf</th>\n",
       "      <th>Pages</th>\n",
       "      <th>Price</th>\n",
       "      <th>Value</th>\n",
       "      <th>Date</th>\n",
       "    </tr>\n",
       "  </thead>\n",
       "  <tbody>\n",
       "    <tr>\n",
       "      <th>0</th>\n",
       "      <td>HR</td>\n",
       "      <td>Islam</td>\n",
       "      <td>The Islamic Invasion</td>\n",
       "      <td>R Morey</td>\n",
       "      <td>Harvest HP 1960</td>\n",
       "      <td>0 89081 983 1</td>\n",
       "      <td>17cm</td>\n",
       "      <td>221</td>\n",
       "      <td>3</td>\n",
       "      <td>8</td>\n",
       "      <td>2008-04-01 00:00:00</td>\n",
       "    </tr>\n",
       "    <tr>\n",
       "      <th>1</th>\n",
       "      <td>HR</td>\n",
       "      <td>Word lists</td>\n",
       "      <td>New Testament Word Lists</td>\n",
       "      <td>Morrison &amp; Barnes</td>\n",
       "      <td>Erdmans 1975</td>\n",
       "      <td>0 8028 1141 8</td>\n",
       "      <td>NaN</td>\n",
       "      <td>125</td>\n",
       "      <td>3</td>\n",
       "      <td>NaN</td>\n",
       "      <td>2008-04-01 00:00:00</td>\n",
       "    </tr>\n",
       "    <tr>\n",
       "      <th>2</th>\n",
       "      <td>HR</td>\n",
       "      <td>Theology: Salvation</td>\n",
       "      <td>The Triumph of the crucified</td>\n",
       "      <td>E Sauer</td>\n",
       "      <td>Paternoster 1952</td>\n",
       "      <td>NaN</td>\n",
       "      <td>NaN</td>\n",
       "      <td>207</td>\n",
       "      <td>3</td>\n",
       "      <td>10</td>\n",
       "      <td>2008-04-01 00:00:00</td>\n",
       "    </tr>\n",
       "    <tr>\n",
       "      <th>3</th>\n",
       "      <td>HR</td>\n",
       "      <td>Early Fathers</td>\n",
       "      <td>Ante-Nicene Christian Library</td>\n",
       "      <td>Ed Menzies</td>\n",
       "      <td>T&amp;T Clark 1897</td>\n",
       "      <td>NaN</td>\n",
       "      <td>NaN</td>\n",
       "      <td>533</td>\n",
       "      <td>9</td>\n",
       "      <td>NaN</td>\n",
       "      <td>2010-03-01 00:00:00</td>\n",
       "    </tr>\n",
       "    <tr>\n",
       "      <th>4</th>\n",
       "      <td>HR</td>\n",
       "      <td>Apologetics</td>\n",
       "      <td>Earth's earliest ages</td>\n",
       "      <td>G.H. Pember</td>\n",
       "      <td>H &amp; S 1895</td>\n",
       "      <td>NaN</td>\n",
       "      <td>NaN</td>\n",
       "      <td>494</td>\n",
       "      <td>3</td>\n",
       "      <td>NaN</td>\n",
       "      <td>2008-04-01 00:00:00</td>\n",
       "    </tr>\n",
       "  </tbody>\n",
       "</table>\n",
       "</div>"
      ],
      "text/plain": [
       "  Location              Subject                          Title  \\\n",
       "0       HR                Islam           The Islamic Invasion   \n",
       "1       HR           Word lists       New Testament Word Lists   \n",
       "2       HR  Theology: Salvation   The Triumph of the crucified   \n",
       "3       HR        Early Fathers  Ante-Nicene Christian Library   \n",
       "4       HR          Apologetics          Earth's earliest ages   \n",
       "\n",
       "              Author         Publisher          ISBN? Shelf Pages Price Value  \\\n",
       "0            R Morey   Harvest HP 1960  0 89081 983 1  17cm   221     3     8   \n",
       "1  Morrison & Barnes      Erdmans 1975  0 8028 1141 8   NaN   125     3   NaN   \n",
       "2            E Sauer  Paternoster 1952            NaN   NaN   207     3    10   \n",
       "3         Ed Menzies    T&T Clark 1897            NaN   NaN   533     9   NaN   \n",
       "4        G.H. Pember        H & S 1895            NaN   NaN   494     3   NaN   \n",
       "\n",
       "                  Date  \n",
       "0  2008-04-01 00:00:00  \n",
       "1  2008-04-01 00:00:00  \n",
       "2  2008-04-01 00:00:00  \n",
       "3  2010-03-01 00:00:00  \n",
       "4  2008-04-01 00:00:00  "
      ]
     },
     "execution_count": 4,
     "metadata": {},
     "output_type": "execute_result"
    }
   ],
   "source": [
    "df.head()"
   ]
  },
  {
   "cell_type": "markdown",
   "metadata": {
    "deletable": true,
    "editable": true
   },
   "source": [
    "Set float format to two decimal places (currency). Not all rows can become a float:"
   ]
  },
  {
   "cell_type": "code",
   "execution_count": 5,
   "metadata": {
    "collapsed": false,
    "deletable": true,
    "editable": true
   },
   "outputs": [],
   "source": [
    "pd.options.display.float_format = '{:,.2f}'.format\n",
    "\n",
    "def to_number(s): \n",
    "    try:\n",
    "        s1 = round(float(s),2)\n",
    "        return s1\n",
    "    except ValueError:\n",
    "        return s\n",
    "    \n",
    "df.Price = df.Price.map(lambda f : to_number(f))  \n",
    "df.Value = df.Value.map(lambda f : to_number(f))  "
   ]
  },
  {
   "cell_type": "markdown",
   "metadata": {
    "deletable": true,
    "editable": true
   },
   "source": [
    "Find and remove blank rows:"
   ]
  },
  {
   "cell_type": "code",
   "execution_count": 6,
   "metadata": {
    "collapsed": false,
    "deletable": true,
    "editable": true
   },
   "outputs": [
    {
     "name": "stdout",
     "output_type": "stream",
     "text": [
      "1 row removed \n"
     ]
    }
   ],
   "source": [
    "# How many rows are all NaN values\n",
    "df = df.dropna(how='all')              # drop a row only if ALL columns are NaN\n",
    "print('%d row removed ' % (orig_rows - df.shape[0]) ) # 1 row contained all NaN and has been removed"
   ]
  },
  {
   "cell_type": "markdown",
   "metadata": {
    "deletable": true,
    "editable": true
   },
   "source": [
    "List the number of rows in each column which are empty:"
   ]
  },
  {
   "cell_type": "code",
   "execution_count": 7,
   "metadata": {
    "collapsed": false,
    "deletable": true,
    "editable": true
   },
   "outputs": [
    {
     "data": {
      "text/plain": [
       "Location       29\n",
       "Title          34\n",
       "Publisher     175\n",
       "Shelf         336\n",
       "Pages         540\n",
       "Author        915\n",
       "Price        3611\n",
       "ISBN?        4770\n",
       "Date         5712\n",
       "Subject      6208\n",
       "Value        9179\n",
       "dtype: int64"
      ]
     },
     "execution_count": 7,
     "metadata": {},
     "output_type": "execute_result"
    }
   ],
   "source": [
    "# How many rows in each column are NaN\n",
    "df.isnull().sum().sort_values()"
   ]
  },
  {
   "cell_type": "markdown",
   "metadata": {
    "deletable": true,
    "editable": true
   },
   "source": [
    "_Based on these results, title and publisher are the most complete columns_\n",
    "\n",
    "Split a column containing two types of data:\n",
    "\n",
    "The \"Publisher\" column contains both the publisher and the year it was published. This should be split into two columns. "
   ]
  },
  {
   "cell_type": "code",
   "execution_count": 8,
   "metadata": {
    "collapsed": false,
    "deletable": true,
    "editable": true
   },
   "outputs": [],
   "source": [
    "pd.options.mode.chained_assignment = None  # default='warn'\n",
    "df['PubYear'] = df['Publisher'].str.extract('(\\d\\d\\d\\d)', expand=True)          # regex is confusing\n",
    "df['Publisher'] = df['Publisher'].str.extract('(((?!\\d).)*)', expand=True)"
   ]
  },
  {
   "cell_type": "markdown",
   "metadata": {
    "deletable": true,
    "editable": true
   },
   "source": [
    "Improve the format of the 'Date' column:"
   ]
  },
  {
   "cell_type": "code",
   "execution_count": 9,
   "metadata": {
    "collapsed": false,
    "deletable": true,
    "editable": true
   },
   "outputs": [],
   "source": [
    "df['Date'] = pd.to_datetime(df['Date'], errors='coerce')"
   ]
  },
  {
   "cell_type": "markdown",
   "metadata": {
    "deletable": true,
    "editable": true
   },
   "source": [
    "The data frame is now in the columns I want it to be in, and the top 5 rows are:"
   ]
  },
  {
   "cell_type": "code",
   "execution_count": 10,
   "metadata": {
    "collapsed": false,
    "deletable": true,
    "editable": true
   },
   "outputs": [
    {
     "data": {
      "text/html": [
       "<div>\n",
       "<table border=\"1\" class=\"dataframe\">\n",
       "  <thead>\n",
       "    <tr style=\"text-align: right;\">\n",
       "      <th></th>\n",
       "      <th>Location</th>\n",
       "      <th>Subject</th>\n",
       "      <th>Title</th>\n",
       "      <th>Author</th>\n",
       "      <th>Publisher</th>\n",
       "      <th>ISBN?</th>\n",
       "      <th>Shelf</th>\n",
       "      <th>Pages</th>\n",
       "      <th>Price</th>\n",
       "      <th>Value</th>\n",
       "      <th>Date</th>\n",
       "      <th>PubYear</th>\n",
       "    </tr>\n",
       "  </thead>\n",
       "  <tbody>\n",
       "    <tr>\n",
       "      <th>0</th>\n",
       "      <td>HR</td>\n",
       "      <td>Islam</td>\n",
       "      <td>The Islamic Invasion</td>\n",
       "      <td>R Morey</td>\n",
       "      <td>Harvest HP</td>\n",
       "      <td>0 89081 983 1</td>\n",
       "      <td>17cm</td>\n",
       "      <td>221</td>\n",
       "      <td>3.00</td>\n",
       "      <td>8.00</td>\n",
       "      <td>2008-04-01</td>\n",
       "      <td>1960</td>\n",
       "    </tr>\n",
       "    <tr>\n",
       "      <th>1</th>\n",
       "      <td>HR</td>\n",
       "      <td>Word lists</td>\n",
       "      <td>New Testament Word Lists</td>\n",
       "      <td>Morrison &amp; Barnes</td>\n",
       "      <td>Erdmans</td>\n",
       "      <td>0 8028 1141 8</td>\n",
       "      <td>NaN</td>\n",
       "      <td>125</td>\n",
       "      <td>3.00</td>\n",
       "      <td>NaN</td>\n",
       "      <td>2008-04-01</td>\n",
       "      <td>1975</td>\n",
       "    </tr>\n",
       "    <tr>\n",
       "      <th>2</th>\n",
       "      <td>HR</td>\n",
       "      <td>Theology: Salvation</td>\n",
       "      <td>The Triumph of the crucified</td>\n",
       "      <td>E Sauer</td>\n",
       "      <td>Paternoster</td>\n",
       "      <td>NaN</td>\n",
       "      <td>NaN</td>\n",
       "      <td>207</td>\n",
       "      <td>3.00</td>\n",
       "      <td>10.00</td>\n",
       "      <td>2008-04-01</td>\n",
       "      <td>1952</td>\n",
       "    </tr>\n",
       "    <tr>\n",
       "      <th>3</th>\n",
       "      <td>HR</td>\n",
       "      <td>Early Fathers</td>\n",
       "      <td>Ante-Nicene Christian Library</td>\n",
       "      <td>Ed Menzies</td>\n",
       "      <td>T&amp;T Clark</td>\n",
       "      <td>NaN</td>\n",
       "      <td>NaN</td>\n",
       "      <td>533</td>\n",
       "      <td>9.00</td>\n",
       "      <td>NaN</td>\n",
       "      <td>2010-03-01</td>\n",
       "      <td>1897</td>\n",
       "    </tr>\n",
       "    <tr>\n",
       "      <th>4</th>\n",
       "      <td>HR</td>\n",
       "      <td>Apologetics</td>\n",
       "      <td>Earth's earliest ages</td>\n",
       "      <td>G.H. Pember</td>\n",
       "      <td>H &amp; S</td>\n",
       "      <td>NaN</td>\n",
       "      <td>NaN</td>\n",
       "      <td>494</td>\n",
       "      <td>3.00</td>\n",
       "      <td>NaN</td>\n",
       "      <td>2008-04-01</td>\n",
       "      <td>1895</td>\n",
       "    </tr>\n",
       "  </tbody>\n",
       "</table>\n",
       "</div>"
      ],
      "text/plain": [
       "  Location              Subject                          Title  \\\n",
       "0       HR                Islam           The Islamic Invasion   \n",
       "1       HR           Word lists       New Testament Word Lists   \n",
       "2       HR  Theology: Salvation   The Triumph of the crucified   \n",
       "3       HR        Early Fathers  Ante-Nicene Christian Library   \n",
       "4       HR          Apologetics          Earth's earliest ages   \n",
       "\n",
       "              Author     Publisher          ISBN? Shelf Pages Price Value  \\\n",
       "0            R Morey   Harvest HP   0 89081 983 1  17cm   221  3.00  8.00   \n",
       "1  Morrison & Barnes      Erdmans   0 8028 1141 8   NaN   125  3.00   NaN   \n",
       "2            E Sauer  Paternoster             NaN   NaN   207  3.00 10.00   \n",
       "3         Ed Menzies    T&T Clark             NaN   NaN   533  9.00   NaN   \n",
       "4        G.H. Pember        H & S             NaN   NaN   494  3.00   NaN   \n",
       "\n",
       "        Date PubYear  \n",
       "0 2008-04-01    1960  \n",
       "1 2008-04-01    1975  \n",
       "2 2008-04-01    1952  \n",
       "3 2010-03-01    1897  \n",
       "4 2008-04-01    1895  "
      ]
     },
     "execution_count": 10,
     "metadata": {},
     "output_type": "execute_result"
    }
   ],
   "source": [
    "df.head()"
   ]
  },
  {
   "cell_type": "markdown",
   "metadata": {
    "deletable": true,
    "editable": true
   },
   "source": [
    "### Insights\n",
    "\n",
    "Distribution of books by year published:\n",
    "\n",
    "The bar chart below shows how many books in the library were published in a given decade. The list below shows the 5 oldest books."
   ]
  },
  {
   "cell_type": "code",
   "execution_count": 11,
   "metadata": {
    "collapsed": false,
    "deletable": true,
    "editable": true
   },
   "outputs": [
    {
     "data": {
      "text/plain": [
       "<matplotlib.axes._subplots.AxesSubplot at 0x10501f2b0>"
      ]
     },
     "execution_count": 11,
     "metadata": {},
     "output_type": "execute_result"
    },
    {
     "data": {
      "image/png": "[encoded data removed]",
      "text/plain": [
       "<matplotlib.figure.Figure at 0x10486bb70>"
      ]
     },
     "metadata": {},
     "output_type": "display_data"
    }
   ],
   "source": [
    "pd.options.display.float_format = '{:,}'.format\n",
    "df.PubYear = pd.to_numeric(df.PubYear, errors='ignore')\n",
    "fig = df.groupby(df.PubYear // 10 * 10).size().plot(kind='bar', xlim=[1000,2016], logy = False)\n",
    "fig.set_xlabel(\"Decade of Publication\")\n",
    "fig.set_ylabel(\"Number of Books\")\n",
    "fig"
   ]
  },
  {
   "cell_type": "markdown",
   "metadata": {
    "deletable": true,
    "editable": true
   },
   "source": [
    "View the 5 oldest titles:"
   ]
  },
  {
   "cell_type": "code",
   "execution_count": 12,
   "metadata": {
    "collapsed": false,
    "deletable": true,
    "editable": true
   },
   "outputs": [
    {
     "data": {
      "text/html": [
       "<div>\n",
       "<table border=\"1\" class=\"dataframe\">\n",
       "  <thead>\n",
       "    <tr style=\"text-align: right;\">\n",
       "      <th></th>\n",
       "      <th>Location</th>\n",
       "      <th>Subject</th>\n",
       "      <th>Title</th>\n",
       "      <th>Author</th>\n",
       "      <th>Publisher</th>\n",
       "      <th>ISBN?</th>\n",
       "      <th>Shelf</th>\n",
       "      <th>Pages</th>\n",
       "      <th>Price</th>\n",
       "      <th>Value</th>\n",
       "      <th>Date</th>\n",
       "      <th>PubYear</th>\n",
       "    </tr>\n",
       "  </thead>\n",
       "  <tbody>\n",
       "    <tr>\n",
       "      <th>4753</th>\n",
       "      <td>Lib</td>\n",
       "      <td>NaN</td>\n",
       "      <td>In Christ's own country</td>\n",
       "      <td>Dom Ernest Graf</td>\n",
       "      <td>Burns Oates</td>\n",
       "      <td>NaN</td>\n",
       "      <td>Sh.4.5</td>\n",
       "      <td>302</td>\n",
       "      <td>Gift</td>\n",
       "      <td>NaN</td>\n",
       "      <td>1999-07-30</td>\n",
       "      <td>1037</td>\n",
       "    </tr>\n",
       "    <tr>\n",
       "      <th>3043</th>\n",
       "      <td>StM</td>\n",
       "      <td>NaN</td>\n",
       "      <td>The First Epistle of Peter</td>\n",
       "      <td>C.E.B. Cranfield</td>\n",
       "      <td>SCM Press</td>\n",
       "      <td>interesting</td>\n",
       "      <td>Sh.5.5</td>\n",
       "      <td>128</td>\n",
       "      <td>NaN</td>\n",
       "      <td>NaN</td>\n",
       "      <td>NaT</td>\n",
       "      <td>1050</td>\n",
       "    </tr>\n",
       "    <tr>\n",
       "      <th>4574</th>\n",
       "      <td>Lib</td>\n",
       "      <td>Music Score</td>\n",
       "      <td>Easy-Play Speed Music; waltz clas</td>\n",
       "      <td>NaN</td>\n",
       "      <td>Sight &amp; Sound</td>\n",
       "      <td>NaN</td>\n",
       "      <td>Sh.4.4</td>\n",
       "      <td>47</td>\n",
       "      <td>99P</td>\n",
       "      <td>NaN</td>\n",
       "      <td>NaT</td>\n",
       "      <td>1076</td>\n",
       "    </tr>\n",
       "    <tr>\n",
       "      <th>7184</th>\n",
       "      <td>25A</td>\n",
       "      <td>NaN</td>\n",
       "      <td>The Noble Qur'an</td>\n",
       "      <td>transl Al-Hilali &amp; Khan</td>\n",
       "      <td>Madinah</td>\n",
       "      <td>NaN</td>\n",
       "      <td>Sh.3.6</td>\n",
       "      <td>956</td>\n",
       "      <td>3.0</td>\n",
       "      <td>NaN</td>\n",
       "      <td>2010-12-10</td>\n",
       "      <td>1417</td>\n",
       "    </tr>\n",
       "    <tr>\n",
       "      <th>3296</th>\n",
       "      <td>Lib</td>\n",
       "      <td>NaN</td>\n",
       "      <td>Chained Bible</td>\n",
       "      <td>NaN</td>\n",
       "      <td>Chris Barker</td>\n",
       "      <td>Very incomplete</td>\n",
       "      <td>Sh.1.1</td>\n",
       "      <td>NaN</td>\n",
       "      <td>NaN</td>\n",
       "      <td>NaN</td>\n",
       "      <td>NaT</td>\n",
       "      <td>1585</td>\n",
       "    </tr>\n",
       "  </tbody>\n",
       "</table>\n",
       "</div>"
      ],
      "text/plain": [
       "     Location      Subject                              Title  \\\n",
       "4753      Lib          NaN            In Christ's own country   \n",
       "3043      StM          NaN         The First Epistle of Peter   \n",
       "4574      Lib  Music Score  Easy-Play Speed Music; waltz clas   \n",
       "7184      25A          NaN                   The Noble Qur'an   \n",
       "3296      Lib          NaN                      Chained Bible   \n",
       "\n",
       "                       Author       Publisher            ISBN?   Shelf Pages  \\\n",
       "4753          Dom Ernest Graf    Burns Oates               NaN  Sh.4.5   302   \n",
       "3043         C.E.B. Cranfield      SCM Press       interesting  Sh.5.5   128   \n",
       "4574                      NaN  Sight & Sound               NaN  Sh.4.4    47   \n",
       "7184  transl Al-Hilali & Khan        Madinah               NaN  Sh.3.6   956   \n",
       "3296                      NaN   Chris Barker   Very incomplete  Sh.1.1   NaN   \n",
       "\n",
       "     Price Value       Date  PubYear  \n",
       "4753  Gift   NaN 1999-07-30     1037  \n",
       "3043   NaN   NaN        NaT     1050  \n",
       "4574   99P   NaN        NaT     1076  \n",
       "7184   3.0   NaN 2010-12-10     1417  \n",
       "3296   NaN   NaN        NaT     1585  "
      ]
     },
     "execution_count": 12,
     "metadata": {},
     "output_type": "execute_result"
    }
   ],
   "source": [
    "df['PubYear'] = df['PubYear'].fillna(0.0).astype(int)\n",
    "df2 = df[df['PubYear'] != 0.0]\n",
    "df2.sort_values(by='PubYear').head()"
   ]
  },
  {
   "cell_type": "markdown",
   "metadata": {
    "collapsed": true,
    "deletable": true,
    "editable": true
   },
   "source": [
    "List the number of books in each location:"
   ]
  },
  {
   "cell_type": "code",
   "execution_count": 13,
   "metadata": {
    "collapsed": false,
    "deletable": true,
    "editable": true
   },
   "outputs": [
    {
     "data": {
      "text/plain": [
       "Location\n",
       "25A      3411\n",
       "LIB      2457\n",
       "CH       1088\n",
       "ST9      1000\n",
       "STM       886\n",
       "HR        305\n",
       "NAN        29\n",
       "ST.M        3\n",
       "HR          2\n",
       "ST M        1\n",
       "SA          1\n",
       "LB          1\n",
       "CH          1\n",
       ":LIB        1\n",
       "dtype: int64"
      ]
     },
     "execution_count": 13,
     "metadata": {},
     "output_type": "execute_result"
    }
   ],
   "source": [
    "df3 = df\n",
    "df3[\"Location\"] = df3[\"Location\"].astype(str).map(str.strip).str.upper().str.slice(0,5)\n",
    "df3.groupby(df3.Location).size().sort_values(ascending=False)"
   ]
  },
  {
   "cell_type": "markdown",
   "metadata": {
    "deletable": true,
    "editable": true
   },
   "source": [
    "Create a list of the differnet subjects, order the list by the most frequent subjects:"
   ]
  },
  {
   "cell_type": "code",
   "execution_count": 14,
   "metadata": {
    "collapsed": false,
    "deletable": true,
    "editable": true
   },
   "outputs": [
    {
     "data": {
      "text/plain": [
       "Subject\n",
       "NAN                            6208\n",
       "COMMENTARY                       61\n",
       "LOCAL HISTORY                    58\n",
       "SERMONS                          41\n",
       "THE CENTURY BIBLE                37\n",
       "THEOLOGY                         36\n",
       "CHRISTIAN BIOGRAPHY              34\n",
       "BIOGRAPHY                        31\n",
       "NT COMMENTARY                    31\n",
       "HEBREW GRAMMAR                   30\n",
       "SACRED BOOKS OF THE EAST         30\n",
       "POETRY                           29\n",
       "CLARK'S FOREIGN THEOL LIB        28\n",
       "GENERAL EDIT ANTONIA FRAZER      25\n",
       "NOVEL                            24\n",
       "WRITERS AND THEIR WORK           24\n",
       "CATALOGUE                        22\n",
       "AUTOBIOGRAPHY                    20\n",
       "OT COMMENTARY                    19\n",
       "GREEK                            19\n",
       "THE EXPOSITOR'S BIBLE            18\n",
       "SRIMAD BHAGAVATAM                18\n",
       "THE BABYLONIAN TALMUD            18\n",
       "PHOTOGRAPHS                      17\n",
       "GREAT MUSEUMS OF T WORLD         15\n",
       "CHURCH HISTORY                   14\n",
       "DAILY READINGS                   14\n",
       "CHRISTIAN LECTURES               14\n",
       "NOTES ON THE CATHEDRALS          14\n",
       "INTERNATIONAL CRITICAL COMM      13\n",
       "ARAMAIC                          13\n",
       "THE CLARENDON BIBLE              13\n",
       "FICTION - CADFAEL                13\n",
       "CLARK'S FOREIGN THEOL LIB.       13\n",
       "APOLOGETICS                      12\n",
       "PSALMS                           12\n",
       "THE CAMBRIDGE BIBLE              12\n",
       "PRAYER                           12\n",
       "LIFE LIBRARY OF PHOTOGRAPHY      11\n",
       "COMMENTARY ON HOLY SCRIPT        11\n",
       "THE MASTERPIECE LIBRARY          11\n",
       "COMMENTARY ON THE O.T.           10\n",
       "HYMNS                            10\n",
       "POEMS                            10\n",
       "MYSTICISM                        10\n",
       "DICTIONARY OF THE BIBLE          10\n",
       "EXHIBITION CATALOGUE             10\n",
       "POETICAL WORKS OF TENNYSON       10\n",
       "DICTIONARY                       10\n",
       "HISTORY                          10\n",
       "dtype: int64"
      ]
     },
     "execution_count": 14,
     "metadata": {},
     "output_type": "execute_result"
    }
   ],
   "source": [
    "df4 = df\n",
    "df4[\"Subject\"] = df4[\"Subject\"].astype(str).map(str.strip).str.upper()\n",
    "df4.groupby(df4.Subject).size().sort_values(ascending=False).head(50)"
   ]
  },
  {
   "cell_type": "markdown",
   "metadata": {
    "deletable": true,
    "editable": true
   },
   "source": [
    "Create a list of authors in the library. Order the list by number of books:"
   ]
  },
  {
   "cell_type": "code",
   "execution_count": 15,
   "metadata": {
    "collapsed": false,
    "deletable": true,
    "editable": true
   },
   "outputs": [
    {
     "data": {
      "text/plain": [
       "Author\n",
       "NAN                     915\n",
       "VARIOUS                  31\n",
       "BHAKTIVEDANTA S PRAB     19\n",
       "C.H. SPURGEON            19\n",
       "ELLIS PETERS             17\n",
       "ED. RABBI I. EPSTEIN     17\n",
       "LESLIE WEATHERHEAD       15\n",
       "ED CARLO RAGGHIANTI      15\n",
       "ALBERT BARNES            14\n",
       "JAMES HASTINGS           13\n",
       "GEORGE ADAM SMITH        13\n",
       "WILLIAM TEMPLE           12\n",
       "JAMES MOFFATT            11\n",
       "ED J A HAMMERTON         11\n",
       "KEIL & DELITZSCH         11\n",
       "WILLIAM BARCLAY          10\n",
       "SHAKESPEARE              10\n",
       "PETER ACKROYD            10\n",
       "IAN WILSON                9\n",
       "CHARLES DICKENS           9\n",
       "BERNHARD WEISS            9\n",
       "J.B. PHILLIPS             9\n",
       "ED QUENNELL & HODGE       8\n",
       "CHARLES GORE              8\n",
       "H.V. MORTON               8\n",
       "M.F. SADLER               8\n",
       "VARIOUS AUTHORS           8\n",
       "ED ANDREW LANG            8\n",
       "GEZA VERMES               8\n",
       "S.R. DRIVER               8\n",
       "EVELYN UNDERHILL          8\n",
       "\"                         8\n",
       "HENRY ALFORD              7\n",
       "ALDOUS HUXLEY             7\n",
       "ED JAMES HASTINGS         7\n",
       "ED ARTHUR MEE             7\n",
       "ROY STRONG                7\n",
       "ALEXANDER MACLAREN        7\n",
       "MARCUS DODS               7\n",
       "JOACHIM JEREMIAS          6\n",
       "THOMAS WRIGHT             6\n",
       "ED R. CROMARTY            6\n",
       "SUSAN GLYN                6\n",
       "DAVID FOUNTAIN            6\n",
       "WILLIAM WHISTON           6\n",
       "C.S. LEWIS                6\n",
       "BARRIE TRINDER            6\n",
       "DAVID TRUMPER             6\n",
       "G. CAMPBELL MORGAN        6\n",
       "ALISTER MCGRATH           6\n",
       "dtype: int64"
      ]
     },
     "execution_count": 15,
     "metadata": {},
     "output_type": "execute_result"
    }
   ],
   "source": [
    "df5 = df\n",
    "df5[\"Author\"] = df5[\"Author\"].astype(str).map(str.strip).str.upper() #.str.slice(0,20)\n",
    "df5.groupby(df5.Author).size().sort_values(ascending=False).head(50)"
   ]
  },
  {
   "cell_type": "markdown",
   "metadata": {
    "deletable": true,
    "editable": true
   },
   "source": [
    "Distribution of book length by number of pages:"
   ]
  },
  {
   "cell_type": "code",
   "execution_count": 16,
   "metadata": {
    "collapsed": false,
    "deletable": true,
    "editable": true
   },
   "outputs": [
    {
     "data": {
      "text/plain": [
       "<matplotlib.text.Text at 0x10585b3c8>"
      ]
     },
     "execution_count": 16,
     "metadata": {},
     "output_type": "execute_result"
    },
    {
     "data": {
      "image/png": "[encoded data removed]",
      "text/plain": [
       "<matplotlib.figure.Figure at 0x10501fb38>"
      ]
     },
     "metadata": {},
     "output_type": "display_data"
    }
   ],
   "source": [
    "def blank_or_number(s): \n",
    "    try:\n",
    "        s1 = round(float(s),2)\n",
    "        return s1\n",
    "    except ValueError:\n",
    "        return ''\n",
    "    \n",
    "    \n",
    "df.Pages = df.Pages.map(lambda f : blank_or_number(f)) \n",
    "df6 = df.Pages[df.Pages != '']\n",
    "\n",
    "plt.xticks(np.arange(0, 2000, 100.0))\n",
    "fig = df6.hist(bins=100, range=[0, 2000])\n",
    "fig.set_xlabel(\"Number of Pages\")\n",
    "fig.set_ylabel(\"Number of Books\")\n"
   ]
  },
  {
   "cell_type": "markdown",
   "metadata": {
    "deletable": true,
    "editable": true
   },
   "source": [
    "Query an ISBN database to find missing data:\n",
    "\n",
    "Lastly, I thought it would be a fun challenge to fill in gaps in the data. The table below shows rows with ISBN number but missing either Author, Title or Publisher.\n",
    "\n",
    "It turns out that there are only 10 rows that meet this criteria, and in all cases it is the publisher that is missing. "
   ]
  },
  {
   "cell_type": "code",
   "execution_count": 17,
   "metadata": {
    "collapsed": false,
    "deletable": true,
    "editable": true
   },
   "outputs": [
    {
     "data": {
      "text/html": [
       "<div>\n",
       "<table border=\"1\" class=\"dataframe\">\n",
       "  <thead>\n",
       "    <tr style=\"text-align: right;\">\n",
       "      <th></th>\n",
       "      <th>Location</th>\n",
       "      <th>Subject</th>\n",
       "      <th>Title</th>\n",
       "      <th>Author</th>\n",
       "      <th>Publisher</th>\n",
       "      <th>ISBN?</th>\n",
       "      <th>Shelf</th>\n",
       "      <th>Pages</th>\n",
       "      <th>Price</th>\n",
       "      <th>Value</th>\n",
       "      <th>Date</th>\n",
       "      <th>PubYear</th>\n",
       "    </tr>\n",
       "  </thead>\n",
       "  <tbody>\n",
       "    <tr>\n",
       "      <th>1430</th>\n",
       "      <td>ST9</td>\n",
       "      <td>BIOGRAPHY OF SCIENTIST</td>\n",
       "      <td>Longitude (John Harrison)</td>\n",
       "      <td>DAVA SOBEL</td>\n",
       "      <td></td>\n",
       "      <td>1 85702 571 7</td>\n",
       "      <td>Sh.1.2</td>\n",
       "      <td>184.0</td>\n",
       "      <td>5.99</td>\n",
       "      <td>NaN</td>\n",
       "      <td>NaT</td>\n",
       "      <td>1998</td>\n",
       "    </tr>\n",
       "    <tr>\n",
       "      <th>2707</th>\n",
       "      <td>STM</td>\n",
       "      <td>DEVOTIONAL!</td>\n",
       "      <td>Romans: Momentous News</td>\n",
       "      <td>DAVID COOK</td>\n",
       "      <td></td>\n",
       "      <td>978 1 906173241</td>\n",
       "      <td>Sh.3.4</td>\n",
       "      <td>55.0</td>\n",
       "      <td>1.0</td>\n",
       "      <td>NaN</td>\n",
       "      <td>2011-07-28</td>\n",
       "      <td>2011</td>\n",
       "    </tr>\n",
       "    <tr>\n",
       "      <th>3874</th>\n",
       "      <td>LIB</td>\n",
       "      <td>NAN</td>\n",
       "      <td>Annie's Box - Darwin's daughter</td>\n",
       "      <td>RANDAL KEYNES</td>\n",
       "      <td></td>\n",
       "      <td>1 84115 060 6</td>\n",
       "      <td>Sh.2.4</td>\n",
       "      <td>331.0</td>\n",
       "      <td>3.99</td>\n",
       "      <td>NaN</td>\n",
       "      <td>2002-07-20</td>\n",
       "      <td>2001</td>\n",
       "    </tr>\n",
       "    <tr>\n",
       "      <th>4705</th>\n",
       "      <td>LIB</td>\n",
       "      <td>HISTORICAL NOVEL</td>\n",
       "      <td>Galileo's Daughter</td>\n",
       "      <td>DAVA SOBEL</td>\n",
       "      <td></td>\n",
       "      <td>1 85702 861 9</td>\n",
       "      <td>Sh.4.5</td>\n",
       "      <td>429.0</td>\n",
       "      <td>NaN</td>\n",
       "      <td>NaN</td>\n",
       "      <td>2002-09-27</td>\n",
       "      <td>1999</td>\n",
       "    </tr>\n",
       "    <tr>\n",
       "      <th>5949</th>\n",
       "      <td>25A</td>\n",
       "      <td>NAN</td>\n",
       "      <td>Short Life Long Times of Mrs Beeton</td>\n",
       "      <td>KATHRYN HUGHES</td>\n",
       "      <td></td>\n",
       "      <td>1 84115 373 7</td>\n",
       "      <td>Sh.1.4</td>\n",
       "      <td>525.0</td>\n",
       "      <td>£2.50P</td>\n",
       "      <td>NaN</td>\n",
       "      <td>2012-02-09</td>\n",
       "      <td>2005</td>\n",
       "    </tr>\n",
       "    <tr>\n",
       "      <th>6008</th>\n",
       "      <td>25A</td>\n",
       "      <td>NAN</td>\n",
       "      <td>Signs in the Sky (Birth of a New Age</td>\n",
       "      <td>ADRIAN GILBERT</td>\n",
       "      <td></td>\n",
       "      <td>0 609 80793 5</td>\n",
       "      <td>Sh.1.5</td>\n",
       "      <td>329.0</td>\n",
       "      <td>4.0</td>\n",
       "      <td>NaN</td>\n",
       "      <td>2012-03-07</td>\n",
       "      <td>2001</td>\n",
       "    </tr>\n",
       "    <tr>\n",
       "      <th>6097</th>\n",
       "      <td>25A</td>\n",
       "      <td>NAN</td>\n",
       "      <td>Isaac Newton, the last Sorcerer</td>\n",
       "      <td>MICHAEL WHITE</td>\n",
       "      <td></td>\n",
       "      <td>1 85702 706 X</td>\n",
       "      <td>Sh.1.6</td>\n",
       "      <td>403.0</td>\n",
       "      <td>£1.50P</td>\n",
       "      <td>NaN</td>\n",
       "      <td>2012-02-09</td>\n",
       "      <td>1997</td>\n",
       "    </tr>\n",
       "    <tr>\n",
       "      <th>6663</th>\n",
       "      <td>25A</td>\n",
       "      <td>NAN</td>\n",
       "      <td>Live Wires - powerful stories of cha</td>\n",
       "      <td>D. J. CARSWELL</td>\n",
       "      <td></td>\n",
       "      <td>978 1 906173 13 5</td>\n",
       "      <td>Sh.2.7</td>\n",
       "      <td>124.0</td>\n",
       "      <td>1.0</td>\n",
       "      <td>NaN</td>\n",
       "      <td>2011-06-29</td>\n",
       "      <td>2010</td>\n",
       "    </tr>\n",
       "    <tr>\n",
       "      <th>8640</th>\n",
       "      <td>25A</td>\n",
       "      <td>KING ARTHUR QUINCENTENARY</td>\n",
       "      <td>One in Specyal</td>\n",
       "      <td>ED SIDNEY HART</td>\n",
       "      <td></td>\n",
       "      <td>0 948485 00 0</td>\n",
       "      <td>Sh.5.9</td>\n",
       "      <td>145.0</td>\n",
       "      <td>£2.49P</td>\n",
       "      <td>NaN</td>\n",
       "      <td>2003-06-28</td>\n",
       "      <td>1985</td>\n",
       "    </tr>\n",
       "    <tr>\n",
       "      <th>8845</th>\n",
       "      <td>25A</td>\n",
       "      <td>NAN</td>\n",
       "      <td>The Order of St John - a short history</td>\n",
       "      <td>E L EDMONDS</td>\n",
       "      <td></td>\n",
       "      <td>0 947718 07 9</td>\n",
       "      <td>Sh.5.7b</td>\n",
       "      <td>35.0</td>\n",
       "      <td>£3.75P</td>\n",
       "      <td>NaN</td>\n",
       "      <td>NaT</td>\n",
       "      <td>1986</td>\n",
       "    </tr>\n",
       "  </tbody>\n",
       "</table>\n",
       "</div>"
      ],
      "text/plain": [
       "     Location                    Subject  \\\n",
       "1430      ST9     BIOGRAPHY OF SCIENTIST   \n",
       "2707      STM                DEVOTIONAL!   \n",
       "3874      LIB                        NAN   \n",
       "4705      LIB           HISTORICAL NOVEL   \n",
       "5949      25A                        NAN   \n",
       "6008      25A                        NAN   \n",
       "6097      25A                        NAN   \n",
       "6663      25A                        NAN   \n",
       "8640      25A  KING ARTHUR QUINCENTENARY   \n",
       "8845      25A                        NAN   \n",
       "\n",
       "                                       Title          Author Publisher  \\\n",
       "1430               Longitude (John Harrison)      DAVA SOBEL             \n",
       "2707                  Romans: Momentous News      DAVID COOK             \n",
       "3874         Annie's Box - Darwin's daughter   RANDAL KEYNES             \n",
       "4705                      Galileo's Daughter      DAVA SOBEL             \n",
       "5949     Short Life Long Times of Mrs Beeton  KATHRYN HUGHES             \n",
       "6008    Signs in the Sky (Birth of a New Age  ADRIAN GILBERT             \n",
       "6097         Isaac Newton, the last Sorcerer   MICHAEL WHITE             \n",
       "6663    Live Wires - powerful stories of cha  D. J. CARSWELL             \n",
       "8640                          One in Specyal  ED SIDNEY HART             \n",
       "8845  The Order of St John - a short history     E L EDMONDS             \n",
       "\n",
       "                  ISBN?    Shelf Pages   Price Value       Date  PubYear  \n",
       "1430      1 85702 571 7   Sh.1.2 184.0    5.99   NaN        NaT     1998  \n",
       "2707    978 1 906173241   Sh.3.4  55.0     1.0   NaN 2011-07-28     2011  \n",
       "3874      1 84115 060 6   Sh.2.4 331.0    3.99   NaN 2002-07-20     2001  \n",
       "4705      1 85702 861 9   Sh.4.5 429.0     NaN   NaN 2002-09-27     1999  \n",
       "5949      1 84115 373 7   Sh.1.4 525.0  £2.50P   NaN 2012-02-09     2005  \n",
       "6008      0 609 80793 5   Sh.1.5 329.0     4.0   NaN 2012-03-07     2001  \n",
       "6097      1 85702 706 X   Sh.1.6 403.0  £1.50P   NaN 2012-02-09     1997  \n",
       "6663  978 1 906173 13 5   Sh.2.7 124.0     1.0   NaN 2011-06-29     2010  \n",
       "8640      0 948485 00 0   Sh.5.9 145.0  £2.49P   NaN 2003-06-28     1985  \n",
       "8845      0 947718 07 9  Sh.5.7b  35.0  £3.75P   NaN        NaT     1986  "
      ]
     },
     "execution_count": 17,
     "metadata": {},
     "output_type": "execute_result"
    }
   ],
   "source": [
    "df7 = df[(df['ISBN?'].notnull()) & ((df['Author'] == '') | (df['Title'] == '') | (df['Publisher'] == ''))]\n",
    "df7"
   ]
  },
  {
   "cell_type": "code",
   "execution_count": 18,
   "metadata": {
    "collapsed": false,
    "deletable": true,
    "editable": true
   },
   "outputs": [],
   "source": [
    "from isbnlib import *\n",
    "from isbnlib.config import * \n",
    "from isbnlib.registry import * \n",
    "import bibtexparser\n",
    "\n",
    "def has_isbn(isbn):\n",
    "    SERVICE = 'isbndb'\n",
    "    APIKEY = 'IZXL3ESD'  # YOUR key\n",
    "    add_apikey(SERVICE, APIKEY) # register your key\n",
    "    bibtex = bibformatters['bibtex']\n",
    "    isbn = clean(isbn)\n",
    "    try:\n",
    "        a = bibtex(meta(EAN13(isbn), SERVICE))\n",
    "        return a\n",
    "    except:\n",
    "        return 'isbn is invalid'"
   ]
  },
  {
   "cell_type": "code",
   "execution_count": 19,
   "metadata": {
    "collapsed": false,
    "deletable": true,
    "editable": true
   },
   "outputs": [],
   "source": [
    "def get_pub(isbn):\n",
    "    bibtex_str = has_isbn(isbn)\n",
    "    try:\n",
    "        bib_db = bibtexparser.loads(bibtex_str)\n",
    "        dic = bib_db.entries[0]\n",
    "        return dic['publisher']\n",
    "    except:\n",
    "        return\n"
   ]
  },
  {
   "cell_type": "code",
   "execution_count": 20,
   "metadata": {
    "collapsed": false,
    "deletable": true,
    "editable": true
   },
   "outputs": [],
   "source": [
    "df7['ISBN?'] = df7['ISBN?'].astype(str)\n",
    "df7.Publisher = df7['ISBN?'].map(lambda f : get_pub(f))"
   ]
  },
  {
   "cell_type": "markdown",
   "metadata": {
    "deletable": true,
    "editable": true
   },
   "source": [
    "The table below shows the results of the isbnlib query. I thought it odd that all the 'missing' publishers names began with a number. It turns out that the regex method I used to split publisher name and year of publication into separate columns doesnt work when there are numbers in the publishers name. Rather than go back and correct this, I'll leave the script as it is to show how to use the isbnlib library.  "
   ]
  },
  {
   "cell_type": "code",
   "execution_count": 21,
   "metadata": {
    "collapsed": false,
    "deletable": true,
    "editable": true
   },
   "outputs": [
    {
     "data": {
      "text/html": [
       "<div>\n",
       "<table border=\"1\" class=\"dataframe\">\n",
       "  <thead>\n",
       "    <tr style=\"text-align: right;\">\n",
       "      <th></th>\n",
       "      <th>Location</th>\n",
       "      <th>Subject</th>\n",
       "      <th>Title</th>\n",
       "      <th>Author</th>\n",
       "      <th>Publisher</th>\n",
       "      <th>ISBN?</th>\n",
       "      <th>Shelf</th>\n",
       "      <th>Pages</th>\n",
       "      <th>Price</th>\n",
       "      <th>Value</th>\n",
       "      <th>Date</th>\n",
       "      <th>PubYear</th>\n",
       "    </tr>\n",
       "  </thead>\n",
       "  <tbody>\n",
       "    <tr>\n",
       "      <th>1430</th>\n",
       "      <td>ST9</td>\n",
       "      <td>BIOGRAPHY OF SCIENTIST</td>\n",
       "      <td>Longitude (John Harrison)</td>\n",
       "      <td>DAVA SOBEL</td>\n",
       "      <td>Fourth Estate</td>\n",
       "      <td>1 85702 571 7</td>\n",
       "      <td>Sh.1.2</td>\n",
       "      <td>184.0</td>\n",
       "      <td>5.99</td>\n",
       "      <td>NaN</td>\n",
       "      <td>NaT</td>\n",
       "      <td>1998</td>\n",
       "    </tr>\n",
       "    <tr>\n",
       "      <th>2707</th>\n",
       "      <td>STM</td>\n",
       "      <td>DEVOTIONAL!</td>\n",
       "      <td>Romans: Momentous News</td>\n",
       "      <td>DAVID COOK</td>\n",
       "      <td>10Publishing</td>\n",
       "      <td>978 1 906173241</td>\n",
       "      <td>Sh.3.4</td>\n",
       "      <td>55.0</td>\n",
       "      <td>1.0</td>\n",
       "      <td>NaN</td>\n",
       "      <td>2011-07-28</td>\n",
       "      <td>2011</td>\n",
       "    </tr>\n",
       "    <tr>\n",
       "      <th>3874</th>\n",
       "      <td>LIB</td>\n",
       "      <td>NAN</td>\n",
       "      <td>Annie's Box - Darwin's daughter</td>\n",
       "      <td>RANDAL KEYNES</td>\n",
       "      <td>4th Estate</td>\n",
       "      <td>1 84115 060 6</td>\n",
       "      <td>Sh.2.4</td>\n",
       "      <td>331.0</td>\n",
       "      <td>3.99</td>\n",
       "      <td>NaN</td>\n",
       "      <td>2002-07-20</td>\n",
       "      <td>2001</td>\n",
       "    </tr>\n",
       "    <tr>\n",
       "      <th>4705</th>\n",
       "      <td>LIB</td>\n",
       "      <td>HISTORICAL NOVEL</td>\n",
       "      <td>Galileo's Daughter</td>\n",
       "      <td>DAVA SOBEL</td>\n",
       "      <td>Fourth Estate</td>\n",
       "      <td>1 85702 861 9</td>\n",
       "      <td>Sh.4.5</td>\n",
       "      <td>429.0</td>\n",
       "      <td>NaN</td>\n",
       "      <td>NaN</td>\n",
       "      <td>2002-09-27</td>\n",
       "      <td>1999</td>\n",
       "    </tr>\n",
       "    <tr>\n",
       "      <th>5949</th>\n",
       "      <td>25A</td>\n",
       "      <td>NAN</td>\n",
       "      <td>Short Life Long Times of Mrs Beeton</td>\n",
       "      <td>KATHRYN HUGHES</td>\n",
       "      <td>None</td>\n",
       "      <td>1 84115 373 7</td>\n",
       "      <td>Sh.1.4</td>\n",
       "      <td>525.0</td>\n",
       "      <td>£2.50P</td>\n",
       "      <td>NaN</td>\n",
       "      <td>2012-02-09</td>\n",
       "      <td>2005</td>\n",
       "    </tr>\n",
       "    <tr>\n",
       "      <th>6008</th>\n",
       "      <td>25A</td>\n",
       "      <td>NAN</td>\n",
       "      <td>Signs in the Sky (Birth of a New Age</td>\n",
       "      <td>ADRIAN GILBERT</td>\n",
       "      <td>Three Rivers Press</td>\n",
       "      <td>0 609 80793 5</td>\n",
       "      <td>Sh.1.5</td>\n",
       "      <td>329.0</td>\n",
       "      <td>4.0</td>\n",
       "      <td>NaN</td>\n",
       "      <td>2012-03-07</td>\n",
       "      <td>2001</td>\n",
       "    </tr>\n",
       "    <tr>\n",
       "      <th>6097</th>\n",
       "      <td>25A</td>\n",
       "      <td>NAN</td>\n",
       "      <td>Isaac Newton, the last Sorcerer</td>\n",
       "      <td>MICHAEL WHITE</td>\n",
       "      <td>Fourth Estate</td>\n",
       "      <td>1 85702 706 X</td>\n",
       "      <td>Sh.1.6</td>\n",
       "      <td>403.0</td>\n",
       "      <td>£1.50P</td>\n",
       "      <td>NaN</td>\n",
       "      <td>2012-02-09</td>\n",
       "      <td>1997</td>\n",
       "    </tr>\n",
       "    <tr>\n",
       "      <th>6663</th>\n",
       "      <td>25A</td>\n",
       "      <td>NAN</td>\n",
       "      <td>Live Wires - powerful stories of cha</td>\n",
       "      <td>D. J. CARSWELL</td>\n",
       "      <td>None</td>\n",
       "      <td>978 1 906173 13 5</td>\n",
       "      <td>Sh.2.7</td>\n",
       "      <td>124.0</td>\n",
       "      <td>1.0</td>\n",
       "      <td>NaN</td>\n",
       "      <td>2011-06-29</td>\n",
       "      <td>2010</td>\n",
       "    </tr>\n",
       "    <tr>\n",
       "      <th>8640</th>\n",
       "      <td>25A</td>\n",
       "      <td>KING ARTHUR QUINCENTENARY</td>\n",
       "      <td>One in Specyal</td>\n",
       "      <td>ED SIDNEY HART</td>\n",
       "      <td>Three Golden Crowns</td>\n",
       "      <td>0 948485 00 0</td>\n",
       "      <td>Sh.5.9</td>\n",
       "      <td>145.0</td>\n",
       "      <td>£2.49P</td>\n",
       "      <td>NaN</td>\n",
       "      <td>2003-06-28</td>\n",
       "      <td>1985</td>\n",
       "    </tr>\n",
       "    <tr>\n",
       "      <th>8845</th>\n",
       "      <td>25A</td>\n",
       "      <td>NAN</td>\n",
       "      <td>The Order of St John - a short history</td>\n",
       "      <td>E L EDMONDS</td>\n",
       "      <td>s.n</td>\n",
       "      <td>0 947718 07 9</td>\n",
       "      <td>Sh.5.7b</td>\n",
       "      <td>35.0</td>\n",
       "      <td>£3.75P</td>\n",
       "      <td>NaN</td>\n",
       "      <td>NaT</td>\n",
       "      <td>1986</td>\n",
       "    </tr>\n",
       "  </tbody>\n",
       "</table>\n",
       "</div>"
      ],
      "text/plain": [
       "     Location                    Subject  \\\n",
       "1430      ST9     BIOGRAPHY OF SCIENTIST   \n",
       "2707      STM                DEVOTIONAL!   \n",
       "3874      LIB                        NAN   \n",
       "4705      LIB           HISTORICAL NOVEL   \n",
       "5949      25A                        NAN   \n",
       "6008      25A                        NAN   \n",
       "6097      25A                        NAN   \n",
       "6663      25A                        NAN   \n",
       "8640      25A  KING ARTHUR QUINCENTENARY   \n",
       "8845      25A                        NAN   \n",
       "\n",
       "                                       Title          Author  \\\n",
       "1430               Longitude (John Harrison)      DAVA SOBEL   \n",
       "2707                  Romans: Momentous News      DAVID COOK   \n",
       "3874         Annie's Box - Darwin's daughter   RANDAL KEYNES   \n",
       "4705                      Galileo's Daughter      DAVA SOBEL   \n",
       "5949     Short Life Long Times of Mrs Beeton  KATHRYN HUGHES   \n",
       "6008    Signs in the Sky (Birth of a New Age  ADRIAN GILBERT   \n",
       "6097         Isaac Newton, the last Sorcerer   MICHAEL WHITE   \n",
       "6663    Live Wires - powerful stories of cha  D. J. CARSWELL   \n",
       "8640                          One in Specyal  ED SIDNEY HART   \n",
       "8845  The Order of St John - a short history     E L EDMONDS   \n",
       "\n",
       "                Publisher              ISBN?    Shelf Pages   Price Value  \\\n",
       "1430        Fourth Estate      1 85702 571 7   Sh.1.2 184.0    5.99   NaN   \n",
       "2707         10Publishing    978 1 906173241   Sh.3.4  55.0     1.0   NaN   \n",
       "3874           4th Estate      1 84115 060 6   Sh.2.4 331.0    3.99   NaN   \n",
       "4705        Fourth Estate      1 85702 861 9   Sh.4.5 429.0     NaN   NaN   \n",
       "5949                 None      1 84115 373 7   Sh.1.4 525.0  £2.50P   NaN   \n",
       "6008   Three Rivers Press      0 609 80793 5   Sh.1.5 329.0     4.0   NaN   \n",
       "6097        Fourth Estate      1 85702 706 X   Sh.1.6 403.0  £1.50P   NaN   \n",
       "6663                 None  978 1 906173 13 5   Sh.2.7 124.0     1.0   NaN   \n",
       "8640  Three Golden Crowns      0 948485 00 0   Sh.5.9 145.0  £2.49P   NaN   \n",
       "8845                  s.n      0 947718 07 9  Sh.5.7b  35.0  £3.75P   NaN   \n",
       "\n",
       "           Date  PubYear  \n",
       "1430        NaT     1998  \n",
       "2707 2011-07-28     2011  \n",
       "3874 2002-07-20     2001  \n",
       "4705 2002-09-27     1999  \n",
       "5949 2012-02-09     2005  \n",
       "6008 2012-03-07     2001  \n",
       "6097 2012-02-09     1997  \n",
       "6663 2011-06-29     2010  \n",
       "8640 2003-06-28     1985  \n",
       "8845        NaT     1986  "
      ]
     },
     "execution_count": 21,
     "metadata": {},
     "output_type": "execute_result"
    }
   ],
   "source": [
    "df7"
   ]
  }
 ],
 "metadata": {
  "kernelspec": {
   "display_name": "Python 3",
   "language": "python",
   "name": "python3"
  },
  "language_info": {
   "codemirror_mode": {
    "name": "ipython",
    "version": 3
   },
   "file_extension": ".py",
   "mimetype": "text/x-python",
   "name": "python",
   "nbconvert_exporter": "python",
   "pygments_lexer": "ipython3",
   "version": "3.6.0"
  }
 },
 "nbformat": 4,
 "nbformat_minor": 0
}
